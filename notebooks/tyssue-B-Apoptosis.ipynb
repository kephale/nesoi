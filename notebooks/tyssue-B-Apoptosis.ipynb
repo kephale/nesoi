{
 "cells": [
  {
   "cell_type": "markdown",
   "metadata": {
    "collapsed": true
   },
   "source": [
    "# Single Cell apoptosis\n",
    "\n",
    "As decribed in [Monier et al. 2015](http://www.nature.com/nature/journal/v518/n7538/full/nature14152.html).\n",
    "\n",
    "We start with a simple hexagonal apical mesh with cylindrical symmetry. "
   ]
  },
  {
   "cell_type": "markdown",
   "metadata": {},
   "source": [
    "#### Imports"
   ]
  },
  {
   "cell_type": "code",
   "execution_count": 1,
   "metadata": {},
   "outputs": [
    {
     "name": "stdout",
     "output_type": "stream",
     "text": [
      "0.9.0\n"
     ]
    }
   ],
   "source": [
    "import pandas as pd\n",
    "import numpy as np\n",
    "import json\n",
    "import matplotlib.pylab as plt\n",
    "\n",
    "import ipywidgets as widgets\n",
    "from IPython.display import display, Image\n",
    "\n",
    "import napari\n",
    "import vispy as vp\n",
    "\n",
    "import tyssue\n",
    "from tyssue import Sheet, History\n",
    "from tyssue import config\n",
    "\n",
    "from tyssue import SheetGeometry as geom\n",
    "from tyssue.dynamics.sheet_vertex_model import SheetModel as basemodel\n",
    "from tyssue.dynamics.apoptosis_model import SheetApoptosisModel as model\n",
    "from tyssue.solvers.quasistatic import QSSolver\n",
    "\n",
    "from tyssue.config.draw import sheet_spec\n",
    "from tyssue.utils.utils import spec_updater\n",
    "\n",
    "from tyssue.draw.vispy_draw import sheet_view, face_visual, edge_visual\n",
    "from tyssue.draw import browse_history\n",
    "from tyssue.io.hdf5 import load_datasets\n",
    "\n",
    "\n",
    "print(tyssue.__version__)"
   ]
  },
  {
   "cell_type": "markdown",
   "metadata": {},
   "source": [
    "### Loading the datasets and specifications\n",
    "\n",
    "Here it is a cylindrical hexagonal mesh."
   ]
  },
  {
   "cell_type": "code",
   "execution_count": 2,
   "metadata": {},
   "outputs": [],
   "source": [
    "# Read pre-recorded datasets\n",
    "h5store = '../data/small_hexagonal.hf5'\n",
    "from tyssue.io.hdf5 import save_datasets, load_datasets\n",
    "\n",
    "datasets = load_datasets(h5store,\n",
    "                         data_names=['face', 'vert', 'edge'])\n",
    "# Corresponding specifications\n",
    "specs = config.geometry.cylindrical_sheet()\n",
    "sheet = Sheet('emin', datasets, specs)\n",
    "sheet.sanitize(trim_borders=True, order_edges=True)\n",
    "\n",
    "geom.update_all(sheet)\n",
    "# Model\n",
    "nondim_specs = config.dynamics.quasistatic_sheet_spec()\n",
    "dim_model_specs = model.dimensionalize(nondim_specs)\n",
    "sheet.update_specs(dim_model_specs)\n",
    "\n",
    "sheet.get_opposite()\n",
    "live_edges = sheet.edge_df[sheet.edge_df['opposite']==-1].index\n",
    "dead_src = sheet.edge_df.loc[live_edges, 'srce'].unique()\n",
    "\n",
    "### Boundary conditions\n",
    "sheet.vert_df.is_active = 1\n",
    "sheet.vert_df.loc[dead_src, 'is_active'] = 0\n",
    "\n",
    "sheet.edge_df['is_active'] = sheet.upcast_srce('is_active') * sheet.upcast_trgt('is_active')"
   ]
  },
  {
   "cell_type": "markdown",
   "metadata": {},
   "source": [
    "### First energy minimization"
   ]
  },
  {
   "cell_type": "code",
   "execution_count": 3,
   "metadata": {},
   "outputs": [
    {
     "name": "stdout",
     "output_type": "stream",
     "text": [
      "True\n"
     ]
    }
   ],
   "source": [
    "\n",
    "min_settings = {\n",
    "#    \"minimize\":{\n",
    "        'options': {\n",
    "            'disp': False,\n",
    "            'ftol': 1e-6,\n",
    "            'gtol': 1e-5},\n",
    "#    }\n",
    "}\n",
    "solver = QSSolver()\n",
    "\n",
    "res = solver.find_energy_min(sheet, geom, model, **min_settings)\n",
    "print(res['success'])"
   ]
  },
  {
   "cell_type": "markdown",
   "metadata": {},
   "source": [
    "### Custom display function"
   ]
  },
  {
   "cell_type": "code",
   "execution_count": 4,
   "metadata": {},
   "outputs": [
    {
     "ename": "RuntimeError",
     "evalue": "Could not import backend \"jupyter_rfb\":\nThe jupyter_rfb backend relies on a the jupyter_rfb library: ``pip install jupyter_rfb``",
     "output_type": "error",
     "traceback": [
      "\u001b[0;31m---------------------------------------------------------------------------\u001b[0m",
      "\u001b[0;31mRuntimeError\u001b[0m                              Traceback (most recent call last)",
      "Cell \u001b[0;32mIn [4], line 38\u001b[0m\n\u001b[1;32m     35\u001b[0m     fig\u001b[38;5;241m.\u001b[39mset_size_inches((\u001b[38;5;241m10\u001b[39m, \u001b[38;5;241m12\u001b[39m))\n\u001b[1;32m     36\u001b[0m     \u001b[38;5;28;01mreturn\u001b[39;00m fig, ax\n\u001b[0;32m---> 38\u001b[0m fig, ax \u001b[38;5;241m=\u001b[39m \u001b[43mleg_joint_view\u001b[49m\u001b[43m(\u001b[49m\u001b[43msheet\u001b[49m\u001b[43m)\u001b[49m\n",
      "Cell \u001b[0;32mIn [4], line 29\u001b[0m, in \u001b[0;36mleg_joint_view\u001b[0;34m(sheet, coords)\u001b[0m\n\u001b[1;32m     17\u001b[0m tmp_sheet\u001b[38;5;241m.\u001b[39mreset_index()\n\u001b[1;32m     19\u001b[0m draw_specs \u001b[38;5;241m=\u001b[39m {\n\u001b[1;32m     20\u001b[0m     \u001b[38;5;124m'\u001b[39m\u001b[38;5;124mvert\u001b[39m\u001b[38;5;124m'\u001b[39m: {\n\u001b[1;32m     21\u001b[0m         \u001b[38;5;124m'\u001b[39m\u001b[38;5;124mvisible\u001b[39m\u001b[38;5;124m'\u001b[39m: \u001b[38;5;28;01mFalse\u001b[39;00m\n\u001b[0;32m   (...)\u001b[0m\n\u001b[1;32m     26\u001b[0m         }\n\u001b[1;32m     27\u001b[0m     }\n\u001b[0;32m---> 29\u001b[0m fig, ax \u001b[38;5;241m=\u001b[39m \u001b[43msheet_view\u001b[49m\u001b[43m(\u001b[49m\u001b[43mtmp_sheet\u001b[49m\u001b[43m,\u001b[49m\u001b[43m \u001b[49m\u001b[43mcoords\u001b[49m\u001b[43m[\u001b[49m\u001b[43m:\u001b[49m\u001b[38;5;241;43m2\u001b[39;49m\u001b[43m]\u001b[49m\u001b[43m,\u001b[49m\u001b[43m \u001b[49m\u001b[43mmode\u001b[49m\u001b[38;5;241;43m=\u001b[39;49m\u001b[38;5;124;43m'\u001b[39;49m\u001b[38;5;124;43m2D\u001b[39;49m\u001b[38;5;124;43m'\u001b[39;49m\u001b[43m,\u001b[49m\u001b[43m \u001b[49m\u001b[38;5;241;43m*\u001b[39;49m\u001b[38;5;241;43m*\u001b[39;49m\u001b[43mdraw_specs\u001b[49m\u001b[43m)\u001b[49m\n\u001b[1;32m     30\u001b[0m ax\u001b[38;5;241m.\u001b[39mset_xlim(\u001b[38;5;241m-\u001b[39m\u001b[38;5;241m15\u001b[39m, \u001b[38;5;241m15\u001b[39m)\n\u001b[1;32m     31\u001b[0m ax\u001b[38;5;241m.\u001b[39mset_ylim(\u001b[38;5;241m-\u001b[39m\u001b[38;5;241m10\u001b[39m, \u001b[38;5;241m10\u001b[39m)\n",
      "File \u001b[0;32m~/git/kephale/nesoi/repos/tyssue/tyssue/draw/vispy_draw.py:174\u001b[0m, in \u001b[0;36msheet_view\u001b[0;34m(sheet, coords, interactive, **draw_specs_kw)\u001b[0m\n\u001b[1;32m    172\u001b[0m \u001b[38;5;28;01mif\u001b[39;00m coords \u001b[38;5;129;01mis\u001b[39;00m \u001b[38;5;28;01mNone\u001b[39;00m:\n\u001b[1;32m    173\u001b[0m     coords \u001b[38;5;241m=\u001b[39m [\u001b[38;5;124m\"\u001b[39m\u001b[38;5;124mx\u001b[39m\u001b[38;5;124m\"\u001b[39m, \u001b[38;5;124m\"\u001b[39m\u001b[38;5;124my\u001b[39m\u001b[38;5;124m\"\u001b[39m, \u001b[38;5;124m\"\u001b[39m\u001b[38;5;124mz\u001b[39m\u001b[38;5;124m\"\u001b[39m]\n\u001b[0;32m--> 174\u001b[0m canvas \u001b[38;5;241m=\u001b[39m \u001b[43mscene\u001b[49m\u001b[38;5;241;43m.\u001b[39;49m\u001b[43mSceneCanvas\u001b[49m\u001b[43m(\u001b[49m\u001b[43mkeys\u001b[49m\u001b[38;5;241;43m=\u001b[39;49m\u001b[38;5;124;43m\"\u001b[39;49m\u001b[38;5;124;43minteractive\u001b[39;49m\u001b[38;5;124;43m\"\u001b[39;49m\u001b[43m,\u001b[49m\u001b[43m \u001b[49m\u001b[43mshow\u001b[49m\u001b[38;5;241;43m=\u001b[39;49m\u001b[38;5;28;43;01mTrue\u001b[39;49;00m\u001b[43m,\u001b[49m\u001b[43m \u001b[49m\u001b[43msize\u001b[49m\u001b[38;5;241;43m=\u001b[39;49m\u001b[43m(\u001b[49m\u001b[38;5;241;43m1240\u001b[39;49m\u001b[43m,\u001b[49m\u001b[43m \u001b[49m\u001b[38;5;241;43m720\u001b[39;49m\u001b[43m)\u001b[49m\u001b[43m)\u001b[49m\n\u001b[1;32m    175\u001b[0m view \u001b[38;5;241m=\u001b[39m canvas\u001b[38;5;241m.\u001b[39mcentral_widget\u001b[38;5;241m.\u001b[39madd_view()\n\u001b[1;32m    176\u001b[0m view\u001b[38;5;241m.\u001b[39mcamera \u001b[38;5;241m=\u001b[39m \u001b[38;5;124m\"\u001b[39m\u001b[38;5;124mturntable\u001b[39m\u001b[38;5;124m\"\u001b[39m\n",
      "File \u001b[0;32m~/miniconda3/envs/nesoi/lib/python3.9/site-packages/vispy/scene/canvas.py:135\u001b[0m, in \u001b[0;36mSceneCanvas.__init__\u001b[0;34m(self, title, size, position, show, autoswap, app, create_native, vsync, resizable, decorate, fullscreen, config, shared, keys, parent, dpi, always_on_top, px_scale, bgcolor)\u001b[0m\n\u001b[1;32m    130\u001b[0m \u001b[38;5;66;03m# Set to True to enable sending mouse events even when no button is\u001b[39;00m\n\u001b[1;32m    131\u001b[0m \u001b[38;5;66;03m# pressed. Disabled by default because it is very expensive. Also\u001b[39;00m\n\u001b[1;32m    132\u001b[0m \u001b[38;5;66;03m# private for now because this behavior / API needs more thought.\u001b[39;00m\n\u001b[1;32m    133\u001b[0m \u001b[38;5;28mself\u001b[39m\u001b[38;5;241m.\u001b[39m_send_hover_events \u001b[38;5;241m=\u001b[39m \u001b[38;5;28;01mFalse\u001b[39;00m\n\u001b[0;32m--> 135\u001b[0m \u001b[38;5;28;43msuper\u001b[39;49m\u001b[43m(\u001b[49m\u001b[43mSceneCanvas\u001b[49m\u001b[43m,\u001b[49m\u001b[43m \u001b[49m\u001b[38;5;28;43mself\u001b[39;49m\u001b[43m)\u001b[49m\u001b[38;5;241;43m.\u001b[39;49m\u001b[38;5;21;43m__init__\u001b[39;49m\u001b[43m(\u001b[49m\n\u001b[1;32m    136\u001b[0m \u001b[43m    \u001b[49m\u001b[43mtitle\u001b[49m\u001b[43m,\u001b[49m\u001b[43m \u001b[49m\u001b[43msize\u001b[49m\u001b[43m,\u001b[49m\u001b[43m \u001b[49m\u001b[43mposition\u001b[49m\u001b[43m,\u001b[49m\u001b[43m \u001b[49m\u001b[43mshow\u001b[49m\u001b[43m,\u001b[49m\u001b[43m \u001b[49m\u001b[43mautoswap\u001b[49m\u001b[43m,\u001b[49m\u001b[43m \u001b[49m\u001b[43mapp\u001b[49m\u001b[43m,\u001b[49m\u001b[43m \u001b[49m\u001b[43mcreate_native\u001b[49m\u001b[43m,\u001b[49m\u001b[43m \u001b[49m\u001b[43mvsync\u001b[49m\u001b[43m,\u001b[49m\n\u001b[1;32m    137\u001b[0m \u001b[43m    \u001b[49m\u001b[43mresizable\u001b[49m\u001b[43m,\u001b[49m\u001b[43m \u001b[49m\u001b[43mdecorate\u001b[49m\u001b[43m,\u001b[49m\u001b[43m \u001b[49m\u001b[43mfullscreen\u001b[49m\u001b[43m,\u001b[49m\u001b[43m \u001b[49m\u001b[43mconfig\u001b[49m\u001b[43m,\u001b[49m\u001b[43m \u001b[49m\u001b[43mshared\u001b[49m\u001b[43m,\u001b[49m\u001b[43m \u001b[49m\u001b[43mkeys\u001b[49m\u001b[43m,\u001b[49m\u001b[43m \u001b[49m\u001b[43mparent\u001b[49m\u001b[43m,\u001b[49m\u001b[43m \u001b[49m\u001b[43mdpi\u001b[49m\u001b[43m,\u001b[49m\n\u001b[1;32m    138\u001b[0m \u001b[43m    \u001b[49m\u001b[43malways_on_top\u001b[49m\u001b[43m,\u001b[49m\u001b[43m \u001b[49m\u001b[43mpx_scale\u001b[49m\u001b[43m)\u001b[49m\n\u001b[1;32m    139\u001b[0m \u001b[38;5;28mself\u001b[39m\u001b[38;5;241m.\u001b[39mevents\u001b[38;5;241m.\u001b[39mmouse_press\u001b[38;5;241m.\u001b[39mconnect(\u001b[38;5;28mself\u001b[39m\u001b[38;5;241m.\u001b[39m_process_mouse_event)\n\u001b[1;32m    140\u001b[0m \u001b[38;5;28mself\u001b[39m\u001b[38;5;241m.\u001b[39mevents\u001b[38;5;241m.\u001b[39mmouse_move\u001b[38;5;241m.\u001b[39mconnect(\u001b[38;5;28mself\u001b[39m\u001b[38;5;241m.\u001b[39m_process_mouse_event)\n",
      "File \u001b[0;32m~/miniconda3/envs/nesoi/lib/python3.9/site-packages/vispy/app/canvas.py:173\u001b[0m, in \u001b[0;36mCanvas.__init__\u001b[0;34m(self, title, size, position, show, autoswap, app, create_native, vsync, resizable, decorate, fullscreen, config, shared, keys, parent, dpi, always_on_top, px_scale, backend_kwargs)\u001b[0m\n\u001b[1;32m    171\u001b[0m \u001b[38;5;66;03m# Get app instance\u001b[39;00m\n\u001b[1;32m    172\u001b[0m \u001b[38;5;28;01mif\u001b[39;00m app \u001b[38;5;129;01mis\u001b[39;00m \u001b[38;5;28;01mNone\u001b[39;00m:\n\u001b[0;32m--> 173\u001b[0m     \u001b[38;5;28mself\u001b[39m\u001b[38;5;241m.\u001b[39m_app \u001b[38;5;241m=\u001b[39m \u001b[43muse_app\u001b[49m\u001b[43m(\u001b[49m\u001b[43mcall_reuse\u001b[49m\u001b[38;5;241;43m=\u001b[39;49m\u001b[38;5;28;43;01mFalse\u001b[39;49;00m\u001b[43m)\u001b[49m\n\u001b[1;32m    174\u001b[0m \u001b[38;5;28;01melif\u001b[39;00m \u001b[38;5;28misinstance\u001b[39m(app, Application):\n\u001b[1;32m    175\u001b[0m     \u001b[38;5;28mself\u001b[39m\u001b[38;5;241m.\u001b[39m_app \u001b[38;5;241m=\u001b[39m app\n",
      "File \u001b[0;32m~/miniconda3/envs/nesoi/lib/python3.9/site-packages/vispy/app/_default_app.py:47\u001b[0m, in \u001b[0;36muse_app\u001b[0;34m(backend_name, call_reuse)\u001b[0m\n\u001b[1;32m     44\u001b[0m         \u001b[38;5;28;01mreturn\u001b[39;00m default_app  \u001b[38;5;66;03m# Current backend matches backend_name\u001b[39;00m\n\u001b[1;32m     46\u001b[0m \u001b[38;5;66;03m# Create default app\u001b[39;00m\n\u001b[0;32m---> 47\u001b[0m default_app \u001b[38;5;241m=\u001b[39m \u001b[43mApplication\u001b[49m\u001b[43m(\u001b[49m\u001b[43mbackend_name\u001b[49m\u001b[43m)\u001b[49m\n\u001b[1;32m     48\u001b[0m \u001b[38;5;28;01mreturn\u001b[39;00m default_app\n",
      "File \u001b[0;32m~/miniconda3/envs/nesoi/lib/python3.9/site-packages/vispy/app/application.py:47\u001b[0m, in \u001b[0;36mApplication.__init__\u001b[0;34m(self, backend_name)\u001b[0m\n\u001b[1;32m     45\u001b[0m \u001b[38;5;28mself\u001b[39m\u001b[38;5;241m.\u001b[39m_backend_module \u001b[38;5;241m=\u001b[39m \u001b[38;5;28;01mNone\u001b[39;00m\n\u001b[1;32m     46\u001b[0m \u001b[38;5;28mself\u001b[39m\u001b[38;5;241m.\u001b[39m_backend \u001b[38;5;241m=\u001b[39m \u001b[38;5;28;01mNone\u001b[39;00m\n\u001b[0;32m---> 47\u001b[0m \u001b[38;5;28;43mself\u001b[39;49m\u001b[38;5;241;43m.\u001b[39;49m\u001b[43m_use\u001b[49m\u001b[43m(\u001b[49m\u001b[43mbackend_name\u001b[49m\u001b[43m)\u001b[49m\n",
      "File \u001b[0;32m~/miniconda3/envs/nesoi/lib/python3.9/site-packages/vispy/app/application.py:240\u001b[0m, in \u001b[0;36mApplication._use\u001b[0;34m(self, backend_name)\u001b[0m\n\u001b[1;32m    236\u001b[0m msg \u001b[38;5;241m=\u001b[39m (\u001b[38;5;124m'\u001b[39m\u001b[38;5;124mCould not import backend \u001b[39m\u001b[38;5;124m\"\u001b[39m\u001b[38;5;132;01m%s\u001b[39;00m\u001b[38;5;124m\"\u001b[39m\u001b[38;5;124m:\u001b[39m\u001b[38;5;130;01m\\n\u001b[39;00m\u001b[38;5;132;01m%s\u001b[39;00m\u001b[38;5;124m'\u001b[39m\n\u001b[1;32m    237\u001b[0m        \u001b[38;5;241m%\u001b[39m (name, \u001b[38;5;28mstr\u001b[39m(mod\u001b[38;5;241m.\u001b[39mwhy_not)))\n\u001b[1;32m    238\u001b[0m \u001b[38;5;28;01mif\u001b[39;00m \u001b[38;5;129;01mnot\u001b[39;00m try_others:\n\u001b[1;32m    239\u001b[0m     \u001b[38;5;66;03m# Fail if user wanted to use a specific backend\u001b[39;00m\n\u001b[0;32m--> 240\u001b[0m     \u001b[38;5;28;01mraise\u001b[39;00m \u001b[38;5;167;01mRuntimeError\u001b[39;00m(msg)\n\u001b[1;32m    241\u001b[0m \u001b[38;5;28;01melif\u001b[39;00m key \u001b[38;5;129;01min\u001b[39;00m imported_toolkits:\n\u001b[1;32m    242\u001b[0m     \u001b[38;5;66;03m# Warn if were unable to use an already imported toolkit\u001b[39;00m\n\u001b[1;32m    243\u001b[0m     msg \u001b[38;5;241m=\u001b[39m (\u001b[38;5;124m'\u001b[39m\u001b[38;5;124mAlthough \u001b[39m\u001b[38;5;132;01m%s\u001b[39;00m\u001b[38;5;124m is already imported, the \u001b[39m\u001b[38;5;132;01m%s\u001b[39;00m\u001b[38;5;124m backend \u001b[39m\u001b[38;5;124m'\u001b[39m\n\u001b[1;32m    244\u001b[0m            \u001b[38;5;124m'\u001b[39m\u001b[38;5;124mcould not\u001b[39m\u001b[38;5;130;01m\\n\u001b[39;00m\u001b[38;5;124mbe used (\u001b[39m\u001b[38;5;124m\"\u001b[39m\u001b[38;5;132;01m%s\u001b[39;00m\u001b[38;5;124m\"\u001b[39m\u001b[38;5;124m). \u001b[39m\u001b[38;5;130;01m\\n\u001b[39;00m\u001b[38;5;124mNote that running \u001b[39m\u001b[38;5;124m'\u001b[39m\n\u001b[1;32m    245\u001b[0m            \u001b[38;5;124m'\u001b[39m\u001b[38;5;124mmultiple GUI toolkits simultaneously can cause \u001b[39m\u001b[38;5;124m'\u001b[39m\n\u001b[1;32m    246\u001b[0m            \u001b[38;5;124m'\u001b[39m\u001b[38;5;124mside effects.\u001b[39m\u001b[38;5;124m'\u001b[39m \u001b[38;5;241m%\u001b[39m\n\u001b[1;32m    247\u001b[0m            (native_module_name, name, \u001b[38;5;28mstr\u001b[39m(mod\u001b[38;5;241m.\u001b[39mwhy_not)))\n",
      "\u001b[0;31mRuntimeError\u001b[0m: Could not import backend \"jupyter_rfb\":\nThe jupyter_rfb backend relies on a the jupyter_rfb library: ``pip install jupyter_rfb``"
     ]
    }
   ],
   "source": [
    "def leg_joint_view(sheet, coords=['z', 'x', 'y']):\n",
    "    \n",
    "    geom.update_all(sheet)\n",
    "    x, y, z = coords\n",
    "    datasets = {}\n",
    "    \n",
    "    datasets['face'] = sheet.face_df.sort_values(z)\n",
    "    datasets['vert'] = sheet.vert_df.sort_values(z)\n",
    "    edge_z = 0.5 * (sheet.upcast_srce(sheet.vert_df[z]) +\n",
    "                    sheet.upcast_trgt(sheet.vert_df[z]))\n",
    "    datasets['edge'] = sheet.edge_df.copy()\n",
    "    datasets['edge'][z] = edge_z\n",
    "    datasets['edge'] = datasets['edge'].sort_values(z)\n",
    "    \n",
    "    tmp_sheet = Sheet('tmp', datasets,\n",
    "                      sheet.specs)\n",
    "    tmp_sheet.reset_index()\n",
    "\n",
    "    draw_specs = {\n",
    "        'vert': {\n",
    "            'visible': False\n",
    "            },\n",
    "        'edge': {\n",
    "            'color': tmp_sheet.edge_df[z],\n",
    "            #'zorder': depth.values\n",
    "            }\n",
    "        }\n",
    "    \n",
    "    fig, ax = sheet_view(tmp_sheet, coords[:2], mode='2D', **draw_specs)\n",
    "    ax.set_xlim(-15, 15)\n",
    "    ax.set_ylim(-10, 10)\n",
    "    ax.set_facecolor('#404040')\n",
    "    ax.set_xticks([])\n",
    "    ax.set_yticks([])\n",
    "    fig.set_size_inches((10, 12))\n",
    "    return fig, ax\n",
    "\n",
    "fig, ax = leg_joint_view(sheet)\n"
   ]
  },
  {
   "cell_type": "markdown",
   "metadata": {},
   "source": [
    "### Choosing an apoptotic cell "
   ]
  },
  {
   "cell_type": "code",
   "execution_count": 5,
   "metadata": {},
   "outputs": [
    {
     "name": "stdout",
     "output_type": "stream",
     "text": [
      "Apoptotic cell position:\n",
      "x   -7.994251\n",
      "y    3.348658\n",
      "z   -4.493606\n",
      "Name: 16, dtype: float64\n",
      "Indices of the apoptotic vertices: [33 42 34 41 43 44]\n"
     ]
    }
   ],
   "source": [
    "apoptotic_cell = 16\n",
    "print('Apoptotic cell position:\\n{}'.format(sheet.face_df.loc[apoptotic_cell, sheet.coords]))\n",
    "apoptotic_edges = sheet.edge_df[sheet.edge_df['face'] == apoptotic_cell]\n",
    "apoptotic_verts = apoptotic_edges['srce'].values\n",
    "print(\"Indices of the apoptotic vertices: {}\".format(apoptotic_verts))"
   ]
  },
  {
   "cell_type": "markdown",
   "metadata": {},
   "source": [
    "Cell behaviours, such as division or apoptosis, are defined as a series of unit changes in the tissue, such as the cell growth, or the abscission of the cell face once division is complete. For a given behavior, the next step often depends on the current state. This is managed by an `EventManager` object, which runs the behaviour.\n",
    "\n",
    "\n",
    "\n"
   ]
  },
  {
   "cell_type": "code",
   "execution_count": 6,
   "metadata": {},
   "outputs": [],
   "source": [
    "from tyssue.behaviors.sheet import apoptosis\n",
    "from tyssue.behaviors import EventManager\n",
    "\n",
    "\n",
    "manager = EventManager('face')\n",
    "\n",
    "\n",
    "sheet.settings['apoptosis'] = {\n",
    "    'shrink_rate': 1.2,\n",
    "    'critical_area': 8.,\n",
    "    'radial_tension': 0.2,\n",
    "    'contractile_increase': 0.3,\n",
    "    'contract_span': 2\n",
    "    }\n",
    "\n",
    "sheet.face_df['id'] = sheet.face_df.index.values\n",
    "manager.append(apoptosis, face_id=apoptotic_cell, **sheet.settings['apoptosis'])\n"
   ]
  },
  {
   "cell_type": "markdown",
   "metadata": {},
   "source": [
    "Here is the code for the apoptosis behavior:\n",
    "\n",
    "```py\n",
    "def apoptosis(sheet, manager, **kwargs):\n",
    "    \"\"\"Apoptotic behavior\n",
    "\n",
    "    While the cell's apical area is bigger than a threshold, the\n",
    "    cell shrinks, and the contractility of its neighbors is increased.\n",
    "    once the critical area is reached, the cell is eliminated\n",
    "    from the apical surface through successive type 1 transition. Once\n",
    "    only three sides are left, the cell is eliminated from the tissue.\n",
    "\n",
    "    Parameters\n",
    "    ----------\n",
    "    sheet : a :class:`Sheet` object\n",
    "    manager : a :class:`EventManager` object\n",
    "    face_id : int,\n",
    "        the id of the apoptotic cell\n",
    "    shrink_rate : float, default 0.1\n",
    "        the rate of reduction of the cell's prefered volume\n",
    "        e.g. the prefered volume is devided by a factor 1+shrink_rate\n",
    "    critical_area : area at which the face is eliminated from the sheet\n",
    "    radial_tension : amount of radial tension added at each contraction steps\n",
    "    contractile_increase : increase in contractility at the cell neighbors\n",
    "    contract_span : number of neighbors affected by the contracitity increase\n",
    "    geom : the geometry class used\n",
    "    \"\"\"\n",
    "\n",
    "    apoptosis_spec = default_apoptosis_spec\n",
    "    apoptosis_spec.update(**kwargs)\n",
    "    face = apoptosis_spec[\"face\"]\n",
    "\n",
    "    if sheet.face_df.loc[face, \"area\"] > apoptosis_spec[\"critical_area\"]:\n",
    "        # Shrink and pull\n",
    "        shrink(sheet, face, apoptosis_spec[\"shrink_rate\"])\n",
    "        ab_pull(sheet, face, apoptosis_spec[\"radial_tension\"])\n",
    "        # contract neighbors\n",
    "        neighbors = sheet.get_neighborhood(\n",
    "            face, apoptosis_spec[\"contract_span\"]\n",
    "        ).dropna()\n",
    "        neighbors[\"id\"] = sheet.face_df.loc[neighbors.face, \"id\"].values\n",
    "        manager.extend(\n",
    "            [\n",
    "                (\n",
    "                    contraction,\n",
    "                    {\n",
    "                        \"face_id\": neighbor[\"id\"],\n",
    "                        \"contractile_increase\": (\n",
    "                            apoptosis_spec[\"contractile_increase\"] / neighbor[\"order\"],\n",
    "                        ),\n",
    "                    },\n",
    "                )\n",
    "                for _, neighbor in neighbors.iterrows()\n",
    "            ]\n",
    "        )\n",
    "        done = False\n",
    "    else:\n",
    "        if sheet.face_df.loc[face, \"num_sides\"] > 3:\n",
    "            exchange(sheet, face, apoptosis_spec[\"geom\"])\n",
    "            done = False\n",
    "        else:\n",
    "            remove(sheet, face, apoptosis_spec[\"geom\"])\n",
    "            done = True\n",
    "    if not done:\n",
    "        manager.append(apoptosis, **apoptosis_spec)\n",
    "```\n"
   ]
  },
  {
   "cell_type": "markdown",
   "metadata": {},
   "source": [
    "We perform the events at each time points to run the simulation"
   ]
  },
  {
   "cell_type": "code",
   "execution_count": 7,
   "metadata": {
    "scrolled": true
   },
   "outputs": [
    {
     "data": {
      "application/vnd.jupyter.widget-view+json": {
       "model_id": "786ea7d0c76844d6a520d8932bca29a5",
       "version_major": 2,
       "version_minor": 0
      },
      "text/plain": [
       "IntProgress(value=0)"
      ]
     },
     "metadata": {},
     "output_type": "display_data"
    }
   ],
   "source": [
    "t = 0\n",
    "stop=100\n",
    "\n",
    "progress = widgets.IntProgress(min=0, max=stop)\n",
    "progress.value = 0\n",
    "display(progress)\n",
    "\n",
    "history = History(sheet)\n",
    "\n",
    "while manager.current and t < stop:\n",
    "    manager.execute(sheet)\n",
    "    t += 1\n",
    "    progress.value = t\n",
    "    res = solver.find_energy_min(sheet, geom, model, **min_settings)\n",
    "    history.record()\n",
    "    manager.update()\n",
    "        "
   ]
  },
  {
   "cell_type": "markdown",
   "metadata": {},
   "source": [
    "### 3D view with napari"
   ]
  },
  {
   "cell_type": "code",
   "execution_count": 9,
   "metadata": {},
   "outputs": [
    {
     "name": "stderr",
     "output_type": "stream",
     "text": [
      "DEBUG : 2022-10-11 12:17:05,702 : MainThread : /Users/kharrington/miniconda3/envs/nesoi/lib/python3.9/site-packages/h5py/__init__.py:47 : Creating converter from 7 to 5\n",
      "DEBUG : 2022-10-11 12:17:05,702 : MainThread : /Users/kharrington/miniconda3/envs/nesoi/lib/python3.9/site-packages/h5py/__init__.py:47 : Creating converter from 5 to 7\n",
      "DEBUG : 2022-10-11 12:17:05,702 : MainThread : /Users/kharrington/miniconda3/envs/nesoi/lib/python3.9/site-packages/h5py/__init__.py:47 : Creating converter from 7 to 5\n",
      "DEBUG : 2022-10-11 12:17:05,703 : MainThread : /Users/kharrington/miniconda3/envs/nesoi/lib/python3.9/site-packages/h5py/__init__.py:47 : Creating converter from 5 to 7\n",
      "/var/folders/z0/_bcy172x6xg12j6wylfkhc_h0000gq/T/ipykernel_51919/2921983322.py:13: FutureWarning: Public access to Window.qt_viewer is deprecated and will be removed in\n",
      "v0.5.0. It is considered an \"implementation detail\" of the napari\n",
      "application, not part of the napari viewer model. If your use case\n",
      "requires access to qt_viewer, please open an issue to discuss.\n",
      "  canvas = viewer.window.qt_viewer.canvas\n"
     ]
    },
    {
     "data": {
      "text/plain": [
       "<VispyCanvas (PyQt5) at 0x2aa7b60a0>"
      ]
     },
     "execution_count": 9,
     "metadata": {},
     "output_type": "execute_result"
    },
    {
     "name": "stderr",
     "output_type": "stream",
     "text": [
      "DEBUG : 2022-10-11 12:17:13,043 : MainThread : /Users/kharrington/git/kephale/nesoi/repos/napari/napari/layers/image/_image_slice.py:67 : ImageSlice.__init__\n",
      "DEBUG : 2022-10-11 12:17:13,047 : MainThread : /Users/kharrington/git/kephale/nesoi/repos/napari/napari/layers/base/base.py:1331 : Layer.refresh\n",
      "DEBUG : 2022-10-11 12:17:13,056 : MainThread : /Users/kharrington/git/kephale/nesoi/repos/napari/napari/_vispy/layers/base.py:137 : VispyBaseLayer._on_matrix_change\n",
      "DEBUG : 2022-10-11 12:17:13,059 : MainThread : /Users/kharrington/git/kephale/nesoi/repos/napari/napari/_vispy/layers/base.py:137 : VispyBaseLayer._on_matrix_change\n",
      "DEBUG : 2022-10-11 12:17:13,061 : MainThread : /Users/kharrington/git/kephale/nesoi/repos/napari/napari/_vispy/layers/base.py:137 : VispyBaseLayer._on_matrix_change\n",
      "DEBUG : 2022-10-11 12:17:13,083 : MainThread : /Users/kharrington/git/kephale/nesoi/repos/napari/napari/layers/image/image.py:746 : Image._make_slice_request: ndim=2 ndisplay=2 last_used=0 range=((0.0, 512.0, 1.0), (0.0, 512.0, 1.0)) current_step=(256, 256) order=(0, 1) axis_labels=('0', '1')\n",
      "DEBUG : 2022-10-11 12:17:13,084 : MainThread : /Users/kharrington/git/kephale/nesoi/repos/napari/napari/layers/base/base.py:973 : Layer._make_slice_request: ndim=2 ndisplay=2 last_used=0 range=((0.0, 512.0, 1.0), (0.0, 512.0, 1.0)) current_step=(256, 256) order=(0, 1) axis_labels=('0', '1')\n",
      "DEBUG : 2022-10-11 12:17:13,085 : ThreadPoolExecutor-0_0 : /Users/kharrington/git/kephale/nesoi/repos/napari/napari/layers/image/image.py:772 : Image._get_slice : _ImageSliceRequest(ndim=2, ndisplay=2, point=(256.0, 256.0), dims_order=[0, 1], corner_pixels=array([[  0,   0],\n",
      "       [512, 512]]))\n",
      "DEBUG : 2022-10-11 12:17:13,095 : ThreadPoolExecutor-0_0 : /Users/kharrington/git/kephale/nesoi/repos/napari/napari/layers/base/base.py:1011 : Layer._get_slice_indices: _ImageSliceRequest(ndim=2, ndisplay=2, point=(256.0, 256.0), dims_order=[0, 1], corner_pixels=array([[  0,   0],\n",
      "       [512, 512]]))\n",
      "DEBUG : 2022-10-11 12:17:13,100 : MainThread : /Users/kharrington/git/kephale/nesoi/repos/napari/napari/layers/base/base.py:1701 : _update_draw: 0.8915589221191939, [array([-561.16797057, -103.79824256]), array([1072.16790531,  614.79821812])], (806, 1832)\n",
      "DEBUG : 2022-10-11 12:17:13,127 : MainThread : /Users/kharrington/git/kephale/nesoi/repos/napari/napari/layers/base/base.py:1701 : _update_draw: 0.8915589221191939, [array([-561.16797057, -103.79824256]), array([1072.16790531,  614.79821812])], (806, 1832)\n",
      "DEBUG : 2022-10-11 12:17:13,149 : MainThread : /Users/kharrington/git/kephale/nesoi/repos/napari/napari/layers/image/_image_slice.py:67 : ImageSlice.__init__\n",
      "DEBUG : 2022-10-11 12:17:13,149 : MainThread : /Users/kharrington/git/kephale/nesoi/repos/napari/napari/_vispy/layers/image.py:100 : VispyImageLayer._set_slice : _ImageSliceRequest(ndim=2, ndisplay=2, point=(256.0, 256.0), dims_order=[0, 1], corner_pixels=array([[  0,   0],\n",
      "       [512, 512]]))\n",
      "DEBUG : 2022-10-11 12:17:13,165 : MainThread : /Users/kharrington/git/kephale/nesoi/repos/napari/napari/layers/base/base.py:1701 : _update_draw: 0.8915589221191939, [array([-561.16797057, -103.79824256]), array([1072.16790531,  614.79821812])], (806, 1832)\n",
      "DEBUG : 2022-10-11 12:17:14,816 : MainThread : /Users/kharrington/git/kephale/nesoi/repos/napari/napari/layers/base/base.py:1701 : _update_draw: 0.8915589221191939, [array([-561.16797057, -103.79824256]), array([1072.16790531,  614.79821812])], (806, 1832)\n",
      "DEBUG : 2022-10-11 12:17:14,864 : MainThread : /Users/kharrington/git/kephale/nesoi/repos/napari/napari/layers/base/base.py:1701 : _update_draw: 0.8915589221191939, [array([-561.16797057, -103.79824256]), array([1072.16790531,  614.79821812])], (806, 1832)\n",
      "DEBUG : 2022-10-11 12:17:14,912 : MainThread : /Users/kharrington/git/kephale/nesoi/repos/napari/napari/layers/base/base.py:1701 : _update_draw: 0.8915589221191939, [array([-561.16797057, -103.79824256]), array([1072.16790531,  614.79821812])], (806, 1832)\n",
      "DEBUG : 2022-10-11 12:17:14,959 : MainThread : /Users/kharrington/git/kephale/nesoi/repos/napari/napari/layers/base/base.py:1701 : _update_draw: 0.8915589221191939, [array([-561.16797057, -103.79824256]), array([1072.16790531,  614.79821812])], (806, 1832)\n",
      "DEBUG : 2022-10-11 12:17:15,000 : MainThread : /Users/kharrington/git/kephale/nesoi/repos/napari/napari/layers/base/base.py:1701 : _update_draw: 0.8915589221191939, [array([-561.16797057, -103.79824256]), array([1072.16790531,  614.79821812])], (806, 1832)\n",
      "DEBUG : 2022-10-11 12:17:15,049 : MainThread : /Users/kharrington/git/kephale/nesoi/repos/napari/napari/layers/base/base.py:1701 : _update_draw: 0.8915589221191939, [array([-561.16797057, -103.79824256]), array([1072.16790531,  614.79821812])], (806, 1832)\n",
      "DEBUG : 2022-10-11 12:17:15,090 : MainThread : /Users/kharrington/git/kephale/nesoi/repos/napari/napari/layers/base/base.py:1701 : _update_draw: 0.8915589221191939, [array([-561.16797057, -103.79824256]), array([1072.16790531,  614.79821812])], (806, 1832)\n",
      "DEBUG : 2022-10-11 12:17:15,198 : MainThread : /Users/kharrington/git/kephale/nesoi/repos/napari/napari/layers/base/base.py:1701 : _update_draw: 0.8915589221191939, [array([-561.16797057, -103.79824256]), array([1072.16790531,  614.79821812])], (806, 1832)\n",
      "DEBUG : 2022-10-11 12:17:15,328 : MainThread : /Users/kharrington/git/kephale/nesoi/repos/napari/napari/layers/base/base.py:1701 : _update_draw: 0.8915589221191939, [array([-561.16797057, -103.79824256]), array([1072.16790531,  614.79821812])], (806, 1832)\n",
      "DEBUG : 2022-10-11 12:17:15,670 : MainThread : /Users/kharrington/git/kephale/nesoi/repos/napari/napari/layers/base/base.py:1701 : _update_draw: 0.8915589221191939, [array([-561.16797057, -103.79824256]), array([1072.16790531,  614.79821812])], (806, 1832)\n",
      "DEBUG : 2022-10-11 12:17:15,678 : MainThread : /Users/kharrington/git/kephale/nesoi/repos/napari/napari/layers/base/base.py:1701 : _update_draw: 0.8915589221191939, [array([-561.16797057, -103.79824256]), array([1072.16790531,  614.79821812])], (806, 1832)\n",
      "DEBUG : 2022-10-11 12:17:15,691 : MainThread : /Users/kharrington/git/kephale/nesoi/repos/napari/napari/layers/base/base.py:1701 : _update_draw: 0.8915589221191939, [array([-561.16797057, -103.79824256]), array([1072.16790531,  614.79821812])], (806, 1832)\n",
      "DEBUG : 2022-10-11 12:17:15,727 : MainThread : /Users/kharrington/git/kephale/nesoi/repos/napari/napari/layers/base/base.py:1701 : _update_draw: 0.8915589221191939, [array([-561.16797057, -103.79824256]), array([1072.16790531,  614.79821812])], (806, 1832)\n",
      "DEBUG : 2022-10-11 12:17:15,734 : MainThread : /Users/kharrington/git/kephale/nesoi/repos/napari/napari/layers/base/base.py:1701 : _update_draw: 0.8915589221191939, [array([-561.16797057, -103.79824256]), array([1072.16790531,  614.79821812])], (806, 1832)\n",
      "DEBUG : 2022-10-11 12:17:15,747 : MainThread : /Users/kharrington/git/kephale/nesoi/repos/napari/napari/layers/base/base.py:1701 : _update_draw: 0.8915589221191939, [array([-561.16797057, -103.79824256]), array([1072.16790531,  614.79821812])], (806, 1832)\n",
      "DEBUG : 2022-10-11 12:17:15,761 : MainThread : /Users/kharrington/git/kephale/nesoi/repos/napari/napari/layers/base/base.py:1701 : _update_draw: 0.8915589221191939, [array([-561.16797057, -103.79824256]), array([1072.16790531,  614.79821812])], (806, 1832)\n",
      "DEBUG : 2022-10-11 12:17:15,792 : MainThread : /Users/kharrington/git/kephale/nesoi/repos/napari/napari/layers/base/base.py:1701 : _update_draw: 0.8915589221191939, [array([-561.16797057, -103.79824256]), array([1072.16790531,  614.79821812])], (806, 1832)\n",
      "DEBUG : 2022-10-11 12:17:15,808 : MainThread : /Users/kharrington/git/kephale/nesoi/repos/napari/napari/layers/base/base.py:1701 : _update_draw: 0.8915589221191939, [array([-561.16797057, -103.79824256]), array([1072.16790531,  614.79821812])], (806, 1832)\n",
      "DEBUG : 2022-10-11 12:17:15,825 : MainThread : /Users/kharrington/git/kephale/nesoi/repos/napari/napari/layers/base/base.py:1701 : _update_draw: 0.8915589221191939, [array([-561.16797057, -103.79824256]), array([1072.16790531,  614.79821812])], (806, 1832)\n",
      "DEBUG : 2022-10-11 12:17:15,854 : MainThread : /Users/kharrington/git/kephale/nesoi/repos/napari/napari/layers/base/base.py:1701 : _update_draw: 0.8915589221191939, [array([-561.16797057, -103.79824256]), array([1072.16790531,  614.79821812])], (806, 1832)\n"
     ]
    },
    {
     "name": "stderr",
     "output_type": "stream",
     "text": [
      "DEBUG : 2022-10-11 12:17:15,861 : MainThread : /Users/kharrington/git/kephale/nesoi/repos/napari/napari/layers/base/base.py:1701 : _update_draw: 0.8915589221191939, [array([-561.16797057, -103.79824256]), array([1072.16790531,  614.79821812])], (806, 1832)\n",
      "DEBUG : 2022-10-11 12:17:15,875 : MainThread : /Users/kharrington/git/kephale/nesoi/repos/napari/napari/layers/base/base.py:1701 : _update_draw: 0.8915589221191939, [array([-561.16797057, -103.79824256]), array([1072.16790531,  614.79821812])], (806, 1832)\n",
      "DEBUG : 2022-10-11 12:17:15,891 : MainThread : /Users/kharrington/git/kephale/nesoi/repos/napari/napari/layers/base/base.py:1701 : _update_draw: 0.8915589221191939, [array([-561.16797057, -103.79824256]), array([1072.16790531,  614.79821812])], (806, 1832)\n",
      "DEBUG : 2022-10-11 12:17:15,918 : MainThread : /Users/kharrington/git/kephale/nesoi/repos/napari/napari/layers/base/base.py:1701 : _update_draw: 0.8915589221191939, [array([-561.16797057, -103.79824256]), array([1072.16790531,  614.79821812])], (806, 1832)\n",
      "DEBUG : 2022-10-11 12:17:15,925 : MainThread : /Users/kharrington/git/kephale/nesoi/repos/napari/napari/layers/base/base.py:1701 : _update_draw: 0.8915589221191939, [array([-561.16797057, -103.79824256]), array([1072.16790531,  614.79821812])], (806, 1832)\n",
      "DEBUG : 2022-10-11 12:17:15,941 : MainThread : /Users/kharrington/git/kephale/nesoi/repos/napari/napari/layers/base/base.py:1701 : _update_draw: 0.8915589221191939, [array([-561.16797057, -103.79824256]), array([1072.16790531,  614.79821812])], (806, 1832)\n",
      "DEBUG : 2022-10-11 12:17:15,958 : MainThread : /Users/kharrington/git/kephale/nesoi/repos/napari/napari/layers/base/base.py:1701 : _update_draw: 0.8915589221191939, [array([-561.16797057, -103.79824256]), array([1072.16790531,  614.79821812])], (806, 1832)\n",
      "DEBUG : 2022-10-11 12:17:15,985 : MainThread : /Users/kharrington/git/kephale/nesoi/repos/napari/napari/layers/base/base.py:1701 : _update_draw: 0.8915589221191939, [array([-561.16797057, -103.79824256]), array([1072.16790531,  614.79821812])], (806, 1832)\n",
      "DEBUG : 2022-10-11 12:17:15,993 : MainThread : /Users/kharrington/git/kephale/nesoi/repos/napari/napari/layers/base/base.py:1701 : _update_draw: 0.8915589221191939, [array([-561.16797057, -103.79824256]), array([1072.16790531,  614.79821812])], (806, 1832)\n",
      "DEBUG : 2022-10-11 12:17:16,008 : MainThread : /Users/kharrington/git/kephale/nesoi/repos/napari/napari/layers/base/base.py:1701 : _update_draw: 0.8915589221191939, [array([-561.16797057, -103.79824256]), array([1072.16790531,  614.79821812])], (806, 1832)\n",
      "DEBUG : 2022-10-11 12:17:16,025 : MainThread : /Users/kharrington/git/kephale/nesoi/repos/napari/napari/layers/base/base.py:1701 : _update_draw: 0.8915589221191939, [array([-561.16797057, -103.79824256]), array([1072.16790531,  614.79821812])], (806, 1832)\n",
      "DEBUG : 2022-10-11 12:17:16,053 : MainThread : /Users/kharrington/git/kephale/nesoi/repos/napari/napari/layers/base/base.py:1701 : _update_draw: 0.8915589221191939, [array([-561.16797057, -103.79824256]), array([1072.16790531,  614.79821812])], (806, 1832)\n",
      "DEBUG : 2022-10-11 12:17:16,060 : MainThread : /Users/kharrington/git/kephale/nesoi/repos/napari/napari/layers/base/base.py:1701 : _update_draw: 0.8915589221191939, [array([-561.16797057, -103.79824256]), array([1072.16790531,  614.79821812])], (806, 1832)\n",
      "DEBUG : 2022-10-11 12:17:16,075 : MainThread : /Users/kharrington/git/kephale/nesoi/repos/napari/napari/layers/base/base.py:1701 : _update_draw: 0.8915589221191939, [array([-561.16797057, -103.79824256]), array([1072.16790531,  614.79821812])], (806, 1832)\n",
      "DEBUG : 2022-10-11 12:17:16,102 : MainThread : /Users/kharrington/git/kephale/nesoi/repos/napari/napari/layers/base/base.py:1701 : _update_draw: 0.8915589221191939, [array([-561.16797057, -103.79824256]), array([1072.16790531,  614.79821812])], (806, 1832)\n",
      "DEBUG : 2022-10-11 12:17:16,109 : MainThread : /Users/kharrington/git/kephale/nesoi/repos/napari/napari/layers/base/base.py:1701 : _update_draw: 0.8915589221191939, [array([-561.16797057, -103.79824256]), array([1072.16790531,  614.79821812])], (806, 1832)\n",
      "DEBUG : 2022-10-11 12:17:16,125 : MainThread : /Users/kharrington/git/kephale/nesoi/repos/napari/napari/layers/base/base.py:1701 : _update_draw: 0.8915589221191939, [array([-561.16797057, -103.79824256]), array([1072.16790531,  614.79821812])], (806, 1832)\n",
      "DEBUG : 2022-10-11 12:17:16,141 : MainThread : /Users/kharrington/git/kephale/nesoi/repos/napari/napari/layers/base/base.py:1701 : _update_draw: 0.8915589221191939, [array([-561.16797057, -103.79824256]), array([1072.16790531,  614.79821812])], (806, 1832)\n",
      "DEBUG : 2022-10-11 12:17:16,168 : MainThread : /Users/kharrington/git/kephale/nesoi/repos/napari/napari/layers/base/base.py:1701 : _update_draw: 0.8915589221191939, [array([-561.16797057, -103.79824256]), array([1072.16790531,  614.79821812])], (806, 1832)\n",
      "DEBUG : 2022-10-11 12:17:16,175 : MainThread : /Users/kharrington/git/kephale/nesoi/repos/napari/napari/layers/base/base.py:1701 : _update_draw: 0.8915589221191939, [array([-561.16797057, -103.79824256]), array([1072.16790531,  614.79821812])], (806, 1832)\n",
      "DEBUG : 2022-10-11 12:17:16,192 : MainThread : /Users/kharrington/git/kephale/nesoi/repos/napari/napari/layers/base/base.py:1701 : _update_draw: 0.8915589221191939, [array([-561.16797057, -103.79824256]), array([1072.16790531,  614.79821812])], (806, 1832)\n",
      "DEBUG : 2022-10-11 12:17:16,208 : MainThread : /Users/kharrington/git/kephale/nesoi/repos/napari/napari/layers/base/base.py:1701 : _update_draw: 0.8915589221191939, [array([-561.16797057, -103.79824256]), array([1072.16790531,  614.79821812])], (806, 1832)\n",
      "DEBUG : 2022-10-11 12:17:16,236 : MainThread : /Users/kharrington/git/kephale/nesoi/repos/napari/napari/layers/base/base.py:1701 : _update_draw: 0.8915589221191939, [array([-561.16797057, -103.79824256]), array([1072.16790531,  614.79821812])], (806, 1832)\n",
      "DEBUG : 2022-10-11 12:17:16,243 : MainThread : /Users/kharrington/git/kephale/nesoi/repos/napari/napari/layers/base/base.py:1701 : _update_draw: 0.8915589221191939, [array([-561.16797057, -103.79824256]), array([1072.16790531,  614.79821812])], (806, 1832)\n",
      "DEBUG : 2022-10-11 12:17:16,258 : MainThread : /Users/kharrington/git/kephale/nesoi/repos/napari/napari/layers/base/base.py:1701 : _update_draw: 0.8915589221191939, [array([-561.16797057, -103.79824256]), array([1072.16790531,  614.79821812])], (806, 1832)\n",
      "DEBUG : 2022-10-11 12:17:16,275 : MainThread : /Users/kharrington/git/kephale/nesoi/repos/napari/napari/layers/base/base.py:1701 : _update_draw: 0.8915589221191939, [array([-561.16797057, -103.79824256]), array([1072.16790531,  614.79821812])], (806, 1832)\n",
      "DEBUG : 2022-10-11 12:17:16,301 : MainThread : /Users/kharrington/git/kephale/nesoi/repos/napari/napari/layers/base/base.py:1701 : _update_draw: 0.8915589221191939, [array([-561.16797057, -103.79824256]), array([1072.16790531,  614.79821812])], (806, 1832)\n",
      "DEBUG : 2022-10-11 12:17:16,309 : MainThread : /Users/kharrington/git/kephale/nesoi/repos/napari/napari/layers/base/base.py:1701 : _update_draw: 0.8915589221191939, [array([-561.16797057, -103.79824256]), array([1072.16790531,  614.79821812])], (806, 1832)\n",
      "DEBUG : 2022-10-11 12:17:16,324 : MainThread : /Users/kharrington/git/kephale/nesoi/repos/napari/napari/layers/base/base.py:1701 : _update_draw: 0.8915589221191939, [array([-561.16797057, -103.79824256]), array([1072.16790531,  614.79821812])], (806, 1832)\n",
      "DEBUG : 2022-10-11 12:17:16,358 : MainThread : /Users/kharrington/git/kephale/nesoi/repos/napari/napari/layers/base/base.py:1701 : _update_draw: 0.8915589221191939, [array([-561.16797057, -103.79824256]), array([1072.16790531,  614.79821812])], (806, 1832)\n",
      "DEBUG : 2022-10-11 12:17:16,375 : MainThread : /Users/kharrington/git/kephale/nesoi/repos/napari/napari/layers/base/base.py:1701 : _update_draw: 0.8915589221191939, [array([-561.16797057, -103.79824256]), array([1072.16790531,  614.79821812])], (806, 1832)\n",
      "DEBUG : 2022-10-11 12:17:16,391 : MainThread : /Users/kharrington/git/kephale/nesoi/repos/napari/napari/layers/base/base.py:1701 : _update_draw: 0.8915589221191939, [array([-561.16797057, -103.79824256]), array([1072.16790531,  614.79821812])], (806, 1832)\n"
     ]
    },
    {
     "name": "stderr",
     "output_type": "stream",
     "text": [
      "DEBUG : 2022-10-11 12:17:16,418 : MainThread : /Users/kharrington/git/kephale/nesoi/repos/napari/napari/layers/base/base.py:1701 : _update_draw: 0.8915589221191939, [array([-561.16797057, -103.79824256]), array([1072.16790531,  614.79821812])], (806, 1832)\n",
      "DEBUG : 2022-10-11 12:17:16,425 : MainThread : /Users/kharrington/git/kephale/nesoi/repos/napari/napari/layers/base/base.py:1701 : _update_draw: 0.8915589221191939, [array([-561.16797057, -103.79824256]), array([1072.16790531,  614.79821812])], (806, 1832)\n",
      "DEBUG : 2022-10-11 12:17:16,441 : MainThread : /Users/kharrington/git/kephale/nesoi/repos/napari/napari/layers/base/base.py:1701 : _update_draw: 0.8915589221191939, [array([-561.16797057, -103.79824256]), array([1072.16790531,  614.79821812])], (806, 1832)\n",
      "DEBUG : 2022-10-11 12:17:16,458 : MainThread : /Users/kharrington/git/kephale/nesoi/repos/napari/napari/layers/base/base.py:1701 : _update_draw: 0.8915589221191939, [array([-561.16797057, -103.79824256]), array([1072.16790531,  614.79821812])], (806, 1832)\n",
      "DEBUG : 2022-10-11 12:17:16,650 : MainThread : /Users/kharrington/git/kephale/nesoi/repos/napari/napari/layers/base/base.py:1701 : _update_draw: 0.8915589221191939, [array([-561.16797057, -103.79824256]), array([1072.16790531,  614.79821812])], (806, 1832)\n",
      "DEBUG : 2022-10-11 12:17:16,679 : MainThread : /Users/kharrington/git/kephale/nesoi/repos/napari/napari/layers/base/base.py:1701 : _update_draw: 0.8915589221191939, [array([-561.16797057, -103.79824256]), array([1072.16790531,  614.79821812])], (806, 1832)\n",
      "DEBUG : 2022-10-11 12:17:16,704 : MainThread : /Users/kharrington/git/kephale/nesoi/repos/napari/napari/layers/base/base.py:1701 : _update_draw: 0.8915589221191939, [array([-561.16797057, -103.79824256]), array([1072.16790531,  614.79821812])], (806, 1832)\n",
      "DEBUG : 2022-10-11 12:17:16,735 : MainThread : /Users/kharrington/git/kephale/nesoi/repos/napari/napari/layers/base/base.py:1701 : _update_draw: 0.8915589221191939, [array([-561.16797057, -103.79824256]), array([1072.16790531,  614.79821812])], (806, 1832)\n",
      "DEBUG : 2022-10-11 12:17:19,921 : MainThread : /Users/kharrington/git/kephale/nesoi/repos/napari/napari/layers/base/base.py:1701 : _update_draw: 0.8915589221191939, [array([-561.16797057, -103.79824256]), array([1072.16790531,  614.79821812])], (806, 1832)\n",
      "DEBUG : 2022-10-11 12:17:20,032 : MainThread : /Users/kharrington/git/kephale/nesoi/repos/napari/napari/layers/base/base.py:1701 : _update_draw: 0.8915589221191939, [array([-561.16797057, -103.79824256]), array([1072.16790531,  614.79821812])], (806, 1832)\n",
      "DEBUG : 2022-10-11 12:17:23,172 : MainThread : /Users/kharrington/git/kephale/nesoi/repos/napari/napari/layers/base/base.py:1701 : _update_draw: 0.8915589221191939, [array([-561.16797057, -103.79824256]), array([1072.16790531,  614.79821812])], (806, 1832)\n",
      "DEBUG : 2022-10-11 12:17:23,217 : MainThread : /Users/kharrington/git/kephale/nesoi/repos/napari/napari/layers/base/base.py:1701 : _update_draw: 0.8915589221191939, [array([-561.16797057, -103.79824256]), array([1072.16790531,  614.79821812])], (806, 1832)\n",
      "DEBUG : 2022-10-11 12:17:24,480 : MainThread : /Users/kharrington/git/kephale/nesoi/repos/napari/napari/layers/base/base.py:1701 : _update_draw: 0.8915589221191939, [array([-561.16797057, -103.79824256]), array([1072.16790531,  614.79821812])], (806, 1832)\n",
      "DEBUG : 2022-10-11 12:17:24,738 : MainThread : /Users/kharrington/git/kephale/nesoi/repos/napari/napari/layers/base/base.py:1701 : _update_draw: 0.8915589221191939, [array([-561.16797057, -103.79824256]), array([1072.16790531,  614.79821812])], (806, 1832)\n",
      "DEBUG : 2022-10-11 12:17:25,132 : MainThread : /Users/kharrington/git/kephale/nesoi/repos/napari/napari/layers/base/base.py:1701 : _update_draw: 0.8915589221191939, [array([-197.4119186 , -103.79824256]), array([708.41190776, 614.79821812])], (806, 1016)\n",
      "DEBUG : 2022-10-11 12:17:25,152 : MainThread : /Users/kharrington/git/kephale/nesoi/repos/napari/napari/layers/base/base.py:1701 : _update_draw: 0.8915589221191939, [array([-197.4119186 , -103.79824256]), array([708.41190776, 614.79821812])], (806, 1016)\n",
      "DEBUG : 2022-10-11 12:17:25,683 : MainThread : /Users/kharrington/git/kephale/nesoi/repos/napari/napari/layers/base/base.py:1701 : _update_draw: 0.8893520931040472, [array([-196.29085642, -103.7982407 ]), array([707.29085101, 614.79823529])], (808, 1016)\n",
      "DEBUG : 2022-10-11 12:17:25,705 : MainThread : /Users/kharrington/git/kephale/nesoi/repos/napari/napari/layers/base/base.py:1701 : _update_draw: 0.8893520931040472, [array([-196.29085642, -103.7982407 ]), array([707.29085101, 614.79823529])], (808, 1016)\n",
      "DEBUG : 2022-10-11 12:17:25,726 : MainThread : /Users/kharrington/git/kephale/nesoi/repos/napari/napari/layers/base/base.py:1701 : _update_draw: 0.8484019967273555, [array([-175.48822048, -103.7982503 ]), array([686.48822563, 614.79825546])], (847, 1016)\n",
      "DEBUG : 2022-10-11 12:17:25,743 : MainThread : /Users/kharrington/git/kephale/nesoi/repos/napari/napari/layers/base/base.py:1701 : _update_draw: 0.8484019967273555, [array([-175.48822048, -103.7982503 ]), array([686.48822563, 614.79825546])], (847, 1016)\n",
      "DEBUG : 2022-10-11 12:17:25,767 : MainThread : /Users/kharrington/git/kephale/nesoi/repos/napari/napari/layers/base/base.py:1701 : _update_draw: 0.778544410864648, [array([-140.00055574, -103.79824131]), array([651.00055101, 614.79823658])], (923, 1016)\n",
      "DEBUG : 2022-10-11 12:17:25,781 : MainThread : /Users/kharrington/git/kephale/nesoi/repos/napari/napari/layers/base/base.py:1701 : _update_draw: 0.778544410864648, [array([-140.00055574, -103.79824131]), array([651.00055101, 614.79823658])], (923, 1016)\n",
      "DEBUG : 2022-10-11 12:17:25,800 : MainThread : /Users/kharrington/git/kephale/nesoi/repos/napari/napari/layers/base/base.py:1701 : _update_draw: 0.7150213843065375, [array([-107.73086323, -103.79824561]), array([618.73086323, 614.79824561])], (1005, 1016)\n",
      "DEBUG : 2022-10-11 12:17:25,815 : MainThread : /Users/kharrington/git/kephale/nesoi/repos/napari/napari/layers/base/base.py:1701 : _update_draw: 0.7150213843065375, [array([-107.73086323, -103.79824561]), array([618.73086323, 614.79824561])], (1005, 1016)\n",
      "DEBUG : 2022-10-11 12:17:25,843 : MainThread : /Users/kharrington/git/kephale/nesoi/repos/napari/napari/layers/base/base.py:1701 : _update_draw: 0.6393207217331585, [array([ -69.27492778, -103.79825268]), array([580.27494531, 614.79826045])], (1124, 1016)\n",
      "DEBUG : 2022-10-11 12:17:25,858 : MainThread : /Users/kharrington/git/kephale/nesoi/repos/napari/napari/layers/base/base.py:1701 : _update_draw: 0.6393207217331585, [array([ -69.27492778, -103.79825268]), array([580.27494531, 614.79826045])], (1124, 1016)\n",
      "DEBUG : 2022-10-11 12:17:25,875 : MainThread : /Users/kharrington/git/kephale/nesoi/repos/napari/napari/layers/base/base.py:1701 : _update_draw: 0.5899806988736208, [array([ -44.21019261, -103.79824235]), array([555.21018902, 614.79823877])], (1218, 1016)\n",
      "DEBUG : 2022-10-11 12:17:25,890 : MainThread : /Users/kharrington/git/kephale/nesoi/repos/napari/napari/layers/base/base.py:1701 : _update_draw: 0.5899806988736208, [array([ -44.21019261, -103.79824235]), array([555.21018902, 614.79823877])], (1218, 1016)\n",
      "DEBUG : 2022-10-11 12:17:25,917 : MainThread : /Users/kharrington/git/kephale/nesoi/repos/napari/napari/layers/base/base.py:1701 : _update_draw: 0.5419279722685295, [array([ -19.79941023, -103.79823962]), array([530.79939537, 614.79823303])], (1326, 1016)\n",
      "DEBUG : 2022-10-11 12:17:25,933 : MainThread : /Users/kharrington/git/kephale/nesoi/repos/napari/napari/layers/base/base.py:1701 : _update_draw: 0.5419279722685295, [array([ -19.79941023, -103.79823962]), array([530.79939537, 614.79823303])], (1326, 1016)\n",
      "DEBUG : 2022-10-11 12:17:25,959 : MainThread : /Users/kharrington/git/kephale/nesoi/repos/napari/napari/layers/base/base.py:1701 : _update_draw: 0.5304600082884376, [array([ -13.97368444, -117.67861272]), array([524.97367717, 628.6786095 ])], (1407, 1016)\n",
      "DEBUG : 2022-10-11 12:17:25,977 : MainThread : /Users/kharrington/git/kephale/nesoi/repos/napari/napari/layers/base/base.py:1701 : _update_draw: 0.5304600082884376, [array([ -13.97368444, -117.67861272]), array([524.97367717, 628.6786095 ])], (1407, 1016)\n"
     ]
    },
    {
     "name": "stderr",
     "output_type": "stream",
     "text": [
      "DEBUG : 2022-10-11 12:17:26,002 : MainThread : /Users/kharrington/git/kephale/nesoi/repos/napari/napari/layers/base/base.py:1701 : _update_draw: 0.5304600082884376, [array([ -13.97368444, -129.08350276]), array([524.97367717, 640.08349953])], (1450, 1016)\n",
      "DEBUG : 2022-10-11 12:17:26,019 : MainThread : /Users/kharrington/git/kephale/nesoi/repos/napari/napari/layers/base/base.py:1701 : _update_draw: 0.5304600082884376, [array([ -13.97368444, -129.08350276]), array([524.97367717, 640.08349953])], (1450, 1016)\n",
      "DEBUG : 2022-10-11 12:17:26,041 : MainThread : /Users/kharrington/git/kephale/nesoi/repos/napari/napari/layers/base/base.py:1701 : _update_draw: 0.5304600082884376, [array([ -13.97368444, -130.14442276]), array([524.97367717, 641.14441954])], (1454, 1016)\n",
      "DEBUG : 2022-10-11 12:17:26,060 : MainThread : /Users/kharrington/git/kephale/nesoi/repos/napari/napari/layers/base/base.py:1701 : _update_draw: 0.5304600082884376, [array([ -13.97368444, -130.14442276]), array([524.97367717, 641.14441954])], (1454, 1016)\n",
      "DEBUG : 2022-10-11 12:17:26,662 : MainThread : /Users/kharrington/git/kephale/nesoi/repos/napari/napari/layers/base/base.py:1701 : _update_draw: 0.5304600082884376, [array([ -13.97368444, -130.14442276]), array([524.97367717, 641.14441954])], (1454, 1016)\n",
      "DEBUG : 2022-10-11 12:17:26,667 : MainThread : /Users/kharrington/git/kephale/nesoi/repos/napari/napari/layers/base/base.py:1701 : _update_draw: 0.5304600082884376, [array([ -13.97368444, -130.14442276]), array([524.97367717, 641.14441954])], (1454, 1016)\n",
      "DEBUG : 2022-10-11 12:17:26,683 : MainThread : /Users/kharrington/git/kephale/nesoi/repos/napari/napari/layers/base/base.py:1701 : _update_draw: 0.5304600082884376, [array([ -13.97368444, -130.14442276]), array([524.97367717, 641.14441954])], (1454, 1016)\n",
      "DEBUG : 2022-10-11 12:17:26,698 : MainThread : /Users/kharrington/git/kephale/nesoi/repos/napari/napari/layers/base/base.py:1701 : _update_draw: 0.5304600082884376, [array([ -13.97368444, -130.14442276]), array([524.97367717, 641.14441954])], (1454, 1016)\n",
      "DEBUG : 2022-10-11 12:17:26,708 : MainThread : /Users/kharrington/git/kephale/nesoi/repos/napari/napari/layers/base/base.py:1701 : _update_draw: 0.5304600082884376, [array([ -13.97368444, -130.14442276]), array([524.97367717, 641.14441954])], (1454, 1016)\n",
      "DEBUG : 2022-10-11 12:17:26,723 : MainThread : /Users/kharrington/git/kephale/nesoi/repos/napari/napari/layers/base/base.py:1701 : _update_draw: 0.5304600082884376, [array([ -13.97368444, -130.14442276]), array([524.97367717, 641.14441954])], (1454, 1016)\n",
      "DEBUG : 2022-10-11 12:17:26,739 : MainThread : /Users/kharrington/git/kephale/nesoi/repos/napari/napari/layers/base/base.py:1701 : _update_draw: 0.5304600082884376, [array([ -13.97368444, -130.14442276]), array([524.97367717, 641.14441954])], (1454, 1016)\n",
      "DEBUG : 2022-10-11 12:17:26,755 : MainThread : /Users/kharrington/git/kephale/nesoi/repos/napari/napari/layers/base/base.py:1701 : _update_draw: 0.5304600082884376, [array([ -13.97368444, -130.14442276]), array([524.97367717, 641.14441954])], (1454, 1016)\n",
      "DEBUG : 2022-10-11 12:17:26,769 : MainThread : /Users/kharrington/git/kephale/nesoi/repos/napari/napari/layers/base/base.py:1701 : _update_draw: 0.5304600082884376, [array([ -13.97368444, -130.14442276]), array([524.97367717, 641.14441954])], (1454, 1016)\n",
      "DEBUG : 2022-10-11 12:17:26,786 : MainThread : /Users/kharrington/git/kephale/nesoi/repos/napari/napari/layers/base/base.py:1701 : _update_draw: 0.5304600082884376, [array([ -13.97368444, -130.14442276]), array([524.97367717, 641.14441954])], (1454, 1016)\n",
      "DEBUG : 2022-10-11 12:17:26,802 : MainThread : /Users/kharrington/git/kephale/nesoi/repos/napari/napari/layers/base/base.py:1701 : _update_draw: 0.5304600082884376, [array([ -13.97368444, -130.14442276]), array([524.97367717, 641.14441954])], (1454, 1016)\n",
      "DEBUG : 2022-10-11 12:17:26,826 : MainThread : /Users/kharrington/git/kephale/nesoi/repos/napari/napari/layers/base/base.py:1701 : _update_draw: 0.5304600082884376, [array([ -13.97368444, -130.14442276]), array([524.97367717, 641.14441954])], (1454, 1016)\n",
      "DEBUG : 2022-10-11 12:17:26,832 : MainThread : /Users/kharrington/git/kephale/nesoi/repos/napari/napari/layers/base/base.py:1701 : _update_draw: 0.5304600082884376, [array([ -13.97368444, -130.14442276]), array([524.97367717, 641.14441954])], (1454, 1016)\n",
      "DEBUG : 2022-10-11 12:17:26,842 : MainThread : /Users/kharrington/git/kephale/nesoi/repos/napari/napari/layers/base/base.py:1701 : _update_draw: 0.5304600082884376, [array([ -13.97368444, -130.14442276]), array([524.97367717, 641.14441954])], (1454, 1016)\n",
      "DEBUG : 2022-10-11 12:17:26,860 : MainThread : /Users/kharrington/git/kephale/nesoi/repos/napari/napari/layers/base/base.py:1701 : _update_draw: 0.5304600082884376, [array([ -13.97368444, -130.14442276]), array([524.97367717, 641.14441954])], (1454, 1016)\n",
      "DEBUG : 2022-10-11 12:17:26,876 : MainThread : /Users/kharrington/git/kephale/nesoi/repos/napari/napari/layers/base/base.py:1701 : _update_draw: 0.5304600082884376, [array([ -13.97368444, -130.14442276]), array([524.97367717, 641.14441954])], (1454, 1016)\n",
      "DEBUG : 2022-10-11 12:17:26,887 : MainThread : /Users/kharrington/git/kephale/nesoi/repos/napari/napari/layers/base/base.py:1701 : _update_draw: 0.5304600082884376, [array([ -13.97368444, -130.14442276]), array([524.97367717, 641.14441954])], (1454, 1016)\n",
      "DEBUG : 2022-10-11 12:17:26,898 : MainThread : /Users/kharrington/git/kephale/nesoi/repos/napari/napari/layers/base/base.py:1701 : _update_draw: 0.5304600082884376, [array([ -13.97368444, -130.14442276]), array([524.97367717, 641.14441954])], (1454, 1016)\n",
      "DEBUG : 2022-10-11 12:17:26,942 : MainThread : /Users/kharrington/git/kephale/nesoi/repos/napari/napari/layers/base/base.py:1701 : _update_draw: 0.5304600082884376, [array([ -13.97368444, -130.14442276]), array([524.97367717, 641.14441954])], (1454, 1016)\n",
      "DEBUG : 2022-10-11 12:17:26,957 : MainThread : /Users/kharrington/git/kephale/nesoi/repos/napari/napari/layers/base/base.py:1701 : _update_draw: 0.5304600082884376, [array([ -13.97368444, -130.14442276]), array([524.97367717, 641.14441954])], (1454, 1016)\n",
      "DEBUG : 2022-10-11 12:17:26,975 : MainThread : /Users/kharrington/git/kephale/nesoi/repos/napari/napari/layers/base/base.py:1701 : _update_draw: 0.5304600082884376, [array([ -13.97368444, -130.14442276]), array([524.97367717, 641.14441954])], (1454, 1016)\n",
      "DEBUG : 2022-10-11 12:17:26,988 : MainThread : /Users/kharrington/git/kephale/nesoi/repos/napari/napari/layers/base/base.py:1701 : _update_draw: 0.5304600082884376, [array([ -13.97368444, -130.14442276]), array([524.97367717, 641.14441954])], (1454, 1016)\n",
      "DEBUG : 2022-10-11 12:17:27,003 : MainThread : /Users/kharrington/git/kephale/nesoi/repos/napari/napari/layers/base/base.py:1701 : _update_draw: 0.5304600082884376, [array([ -13.97368444, -130.14442276]), array([524.97367717, 641.14441954])], (1454, 1016)\n",
      "DEBUG : 2022-10-11 12:17:27,020 : MainThread : /Users/kharrington/git/kephale/nesoi/repos/napari/napari/layers/base/base.py:1701 : _update_draw: 0.5304600082884376, [array([ -13.97368444, -130.14442276]), array([524.97367717, 641.14441954])], (1454, 1016)\n",
      "DEBUG : 2022-10-11 12:17:27,038 : MainThread : /Users/kharrington/git/kephale/nesoi/repos/napari/napari/layers/base/base.py:1701 : _update_draw: 0.5304600082884376, [array([ -13.97368444, -130.14442276]), array([524.97367717, 641.14441954])], (1454, 1016)\n",
      "DEBUG : 2022-10-11 12:17:27,053 : MainThread : /Users/kharrington/git/kephale/nesoi/repos/napari/napari/layers/base/base.py:1701 : _update_draw: 0.5304600082884376, [array([ -13.97368444, -130.14442276]), array([524.97367717, 641.14441954])], (1454, 1016)\n",
      "DEBUG : 2022-10-11 12:17:27,071 : MainThread : /Users/kharrington/git/kephale/nesoi/repos/napari/napari/layers/base/base.py:1701 : _update_draw: 0.5304600082884376, [array([ -13.97368444, -130.14442276]), array([524.97367717, 641.14441954])], (1454, 1016)\n",
      "DEBUG : 2022-10-11 12:17:27,084 : MainThread : /Users/kharrington/git/kephale/nesoi/repos/napari/napari/layers/base/base.py:1701 : _update_draw: 0.5304600082884376, [array([ -13.97368444, -130.14442276]), array([524.97367717, 641.14441954])], (1454, 1016)\n",
      "DEBUG : 2022-10-11 12:17:27,103 : MainThread : /Users/kharrington/git/kephale/nesoi/repos/napari/napari/layers/base/base.py:1701 : _update_draw: 0.5304600082884376, [array([ -13.97368444, -130.14442276]), array([524.97367717, 641.14441954])], (1454, 1016)\n"
     ]
    },
    {
     "name": "stderr",
     "output_type": "stream",
     "text": [
      "DEBUG : 2022-10-11 12:17:27,121 : MainThread : /Users/kharrington/git/kephale/nesoi/repos/napari/napari/layers/base/base.py:1701 : _update_draw: 0.5304600082884376, [array([ -13.97368444, -130.14442276]), array([524.97367717, 641.14441954])], (1454, 1016)\n",
      "DEBUG : 2022-10-11 12:17:27,135 : MainThread : /Users/kharrington/git/kephale/nesoi/repos/napari/napari/layers/base/base.py:1701 : _update_draw: 0.5304600082884376, [array([ -13.97368444, -130.14442276]), array([524.97367717, 641.14441954])], (1454, 1016)\n",
      "DEBUG : 2022-10-11 12:17:27,169 : MainThread : /Users/kharrington/git/kephale/nesoi/repos/napari/napari/layers/base/base.py:1701 : _update_draw: 0.5304600082884376, [array([ -13.97368444, -130.14442276]), array([524.97367717, 641.14441954])], (1454, 1016)\n",
      "DEBUG : 2022-10-11 12:17:27,185 : MainThread : /Users/kharrington/git/kephale/nesoi/repos/napari/napari/layers/base/base.py:1701 : _update_draw: 0.5304600082884376, [array([ -13.97368444, -130.14442276]), array([524.97367717, 641.14441954])], (1454, 1016)\n",
      "DEBUG : 2022-10-11 12:17:27,220 : MainThread : /Users/kharrington/git/kephale/nesoi/repos/napari/napari/layers/base/base.py:1701 : _update_draw: 0.5304600082884376, [array([ -13.97368444, -130.14442276]), array([524.97367717, 641.14441954])], (1454, 1016)\n",
      "DEBUG : 2022-10-11 12:17:27,235 : MainThread : /Users/kharrington/git/kephale/nesoi/repos/napari/napari/layers/base/base.py:1701 : _update_draw: 0.5304600082884376, [array([ -13.97368444, -130.14442276]), array([524.97367717, 641.14441954])], (1454, 1016)\n",
      "DEBUG : 2022-10-11 12:17:27,360 : MainThread : /Users/kharrington/git/kephale/nesoi/repos/napari/napari/layers/base/base.py:1701 : _update_draw: 0.5304600082884376, [array([ -13.97368444, -130.14442276]), array([524.97367717, 641.14441954])], (1454, 1016)\n",
      "DEBUG : 2022-10-11 12:17:27,391 : MainThread : /Users/kharrington/git/kephale/nesoi/repos/napari/napari/layers/base/base.py:1701 : _update_draw: 0.5304600082884376, [array([ -13.97368444, -130.14442276]), array([524.97367717, 641.14441954])], (1454, 1016)\n",
      "DEBUG : 2022-10-11 12:17:27,842 : MainThread : /Users/kharrington/git/kephale/nesoi/repos/napari/napari/layers/base/base.py:1701 : _update_draw: 0.5304600082884376, [array([ -13.97368444, -130.14442276]), array([524.97367717, 641.14441954])], (1454, 1016)\n",
      "DEBUG : 2022-10-11 12:17:27,902 : MainThread : /Users/kharrington/git/kephale/nesoi/repos/napari/napari/layers/base/base.py:1701 : _update_draw: 0.5304600082884376, [array([ -13.97368444, -130.14442276]), array([524.97367717, 641.14441954])], (1454, 1016)\n",
      "DEBUG : 2022-10-11 12:17:27,992 : MainThread : /Users/kharrington/git/kephale/nesoi/repos/napari/napari/layers/base/base.py:1701 : _update_draw: 0.5304600082884376, [array([ -13.97368444, -130.14442276]), array([524.97367717, 641.14441954])], (1454, 1016)\n",
      "DEBUG : 2022-10-11 12:17:28,109 : MainThread : /Users/kharrington/git/kephale/nesoi/repos/napari/napari/layers/base/base.py:1701 : _update_draw: 0.5304600082884376, [array([ -13.97368444, -130.14442276]), array([524.97367717, 641.14441954])], (1454, 1016)\n",
      "DEBUG : 2022-10-11 12:17:28,164 : MainThread : /Users/kharrington/git/kephale/nesoi/repos/napari/napari/layers/base/base.py:1701 : _update_draw: 0.5304600082884376, [array([ -13.97368444, -130.14442276]), array([524.97367717, 641.14441954])], (1454, 1016)\n",
      "DEBUG : 2022-10-11 12:17:28,197 : MainThread : /Users/kharrington/git/kephale/nesoi/repos/napari/napari/layers/base/base.py:1701 : _update_draw: 0.5304600082884376, [array([ -13.97368444, -130.14442276]), array([524.97367717, 641.14441954])], (1454, 1016)\n",
      "DEBUG : 2022-10-11 12:17:28,228 : MainThread : /Users/kharrington/git/kephale/nesoi/repos/napari/napari/layers/base/base.py:1701 : _update_draw: 0.5304600082884376, [array([ -13.97368444, -130.14442276]), array([524.97367717, 641.14441954])], (1454, 1016)\n",
      "DEBUG : 2022-10-11 12:17:28,280 : MainThread : /Users/kharrington/git/kephale/nesoi/repos/napari/napari/layers/base/base.py:1701 : _update_draw: 0.5304600082884376, [array([ -13.97368444, -130.14442276]), array([524.97367717, 641.14441954])], (1454, 1016)\n",
      "DEBUG : 2022-10-11 12:17:28,617 : MainThread : /Users/kharrington/git/kephale/nesoi/repos/napari/napari/layers/base/base.py:1701 : _update_draw: 0.5304600082884376, [array([ -13.97368444, -130.14442276]), array([524.97367717, 641.14441954])], (1454, 1016)\n",
      "DEBUG : 2022-10-11 12:17:28,642 : MainThread : /Users/kharrington/git/kephale/nesoi/repos/napari/napari/layers/base/base.py:1701 : _update_draw: 0.5304600082884376, [array([ -13.97368444, -130.14442276]), array([524.97367717, 641.14441954])], (1454, 1016)\n",
      "DEBUG : 2022-10-11 12:17:28,663 : MainThread : /Users/kharrington/git/kephale/nesoi/repos/napari/napari/layers/base/base.py:1701 : _update_draw: 0.5304600082884376, [array([ -13.97368444, -130.14442276]), array([524.97367717, 641.14441954])], (1454, 1016)\n",
      "DEBUG : 2022-10-11 12:17:28,678 : MainThread : /Users/kharrington/git/kephale/nesoi/repos/napari/napari/layers/base/base.py:1701 : _update_draw: 0.5304600082884376, [array([ -13.97368444, -130.14442276]), array([524.97367717, 641.14441954])], (1454, 1016)\n",
      "DEBUG : 2022-10-11 12:17:28,704 : MainThread : /Users/kharrington/git/kephale/nesoi/repos/napari/napari/layers/base/base.py:1701 : _update_draw: 0.5304600082884376, [array([ -13.97368444, -130.14442276]), array([524.97367717, 641.14441954])], (1454, 1016)\n",
      "DEBUG : 2022-10-11 12:17:28,730 : MainThread : /Users/kharrington/git/kephale/nesoi/repos/napari/napari/layers/base/base.py:1701 : _update_draw: 0.5304600082884376, [array([ -13.97368444, -130.14442276]), array([524.97367717, 641.14441954])], (1454, 1016)\n",
      "DEBUG : 2022-10-11 12:17:29,013 : MainThread : /Users/kharrington/git/kephale/nesoi/repos/napari/napari/layers/base/base.py:1701 : _update_draw: 0.5304600082884376, [array([ -13.97368444, -130.14442276]), array([524.97367717, 641.14441954])], (1454, 1016)\n",
      "DEBUG : 2022-10-11 12:17:29,044 : MainThread : /Users/kharrington/git/kephale/nesoi/repos/napari/napari/layers/base/base.py:1701 : _update_draw: 0.5304600082884376, [array([ -13.97368444, -130.14442276]), array([524.97367717, 641.14441954])], (1454, 1016)\n",
      "DEBUG : 2022-10-11 12:17:29,067 : MainThread : /Users/kharrington/git/kephale/nesoi/repos/napari/napari/layers/base/base.py:1701 : _update_draw: 0.5304600082884376, [array([ -13.97368444, -130.14442276]), array([524.97367717, 641.14441954])], (1454, 1016)\n",
      "DEBUG : 2022-10-11 12:17:29,112 : MainThread : /Users/kharrington/git/kephale/nesoi/repos/napari/napari/layers/base/base.py:1701 : _update_draw: 0.5304600082884376, [array([ -13.97368444, -130.14442276]), array([524.97367717, 641.14441954])], (1454, 1016)\n",
      "DEBUG : 2022-10-11 12:17:29,376 : MainThread : /Users/kharrington/git/kephale/nesoi/repos/napari/napari/layers/base/base.py:1701 : _update_draw: 0.5304600082884376, [array([ -13.97368444, -130.14442276]), array([524.97367717, 641.14441954])], (1454, 1016)\n",
      "DEBUG : 2022-10-11 12:17:29,381 : MainThread : /Users/kharrington/git/kephale/nesoi/repos/napari/napari/layers/base/base.py:1701 : _update_draw: 0.5304600082884376, [array([ -13.97368444, -130.14442276]), array([524.97367717, 641.14441954])], (1454, 1016)\n",
      "DEBUG : 2022-10-11 12:17:29,395 : MainThread : /Users/kharrington/git/kephale/nesoi/repos/napari/napari/layers/base/base.py:1701 : _update_draw: 0.5304600082884376, [array([ -13.97368444, -130.14442276]), array([524.97367717, 641.14441954])], (1454, 1016)\n",
      "DEBUG : 2022-10-11 12:17:29,412 : MainThread : /Users/kharrington/git/kephale/nesoi/repos/napari/napari/layers/base/base.py:1701 : _update_draw: 0.5304600082884376, [array([ -13.97368444, -130.14442276]), array([524.97367717, 641.14441954])], (1454, 1016)\n",
      "DEBUG : 2022-10-11 12:17:29,427 : MainThread : /Users/kharrington/git/kephale/nesoi/repos/napari/napari/layers/base/base.py:1701 : _update_draw: 0.5304600082884376, [array([ -13.97368444, -130.14442276]), array([524.97367717, 641.14441954])], (1454, 1016)\n",
      "DEBUG : 2022-10-11 12:17:29,450 : MainThread : /Users/kharrington/git/kephale/nesoi/repos/napari/napari/layers/base/base.py:1701 : _update_draw: 0.5304600082884376, [array([ -13.97368444, -130.14442276]), array([524.97367717, 641.14441954])], (1454, 1016)\n",
      "DEBUG : 2022-10-11 12:17:29,457 : MainThread : /Users/kharrington/git/kephale/nesoi/repos/napari/napari/layers/base/base.py:1701 : _update_draw: 0.5304600082884376, [array([ -13.97368444, -130.14442276]), array([524.97367717, 641.14441954])], (1454, 1016)\n"
     ]
    },
    {
     "name": "stderr",
     "output_type": "stream",
     "text": [
      "DEBUG : 2022-10-11 12:17:29,471 : MainThread : /Users/kharrington/git/kephale/nesoi/repos/napari/napari/layers/base/base.py:1701 : _update_draw: 0.5304600082884376, [array([ -13.97368444, -130.14442276]), array([524.97367717, 641.14441954])], (1454, 1016)\n",
      "DEBUG : 2022-10-11 12:17:29,489 : MainThread : /Users/kharrington/git/kephale/nesoi/repos/napari/napari/layers/base/base.py:1701 : _update_draw: 0.5304600082884376, [array([ -13.97368444, -130.14442276]), array([524.97367717, 641.14441954])], (1454, 1016)\n",
      "DEBUG : 2022-10-11 12:17:29,504 : MainThread : /Users/kharrington/git/kephale/nesoi/repos/napari/napari/layers/base/base.py:1701 : _update_draw: 0.5304600082884376, [array([ -13.97368444, -130.14442276]), array([524.97367717, 641.14441954])], (1454, 1016)\n",
      "DEBUG : 2022-10-11 12:17:29,519 : MainThread : /Users/kharrington/git/kephale/nesoi/repos/napari/napari/layers/base/base.py:1701 : _update_draw: 0.5304600082884376, [array([ -13.97368444, -130.14442276]), array([524.97367717, 641.14441954])], (1454, 1016)\n",
      "DEBUG : 2022-10-11 12:17:29,535 : MainThread : /Users/kharrington/git/kephale/nesoi/repos/napari/napari/layers/base/base.py:1701 : _update_draw: 0.5304600082884376, [array([ -13.97368444, -130.14442276]), array([524.97367717, 641.14441954])], (1454, 1016)\n",
      "DEBUG : 2022-10-11 12:17:29,561 : MainThread : /Users/kharrington/git/kephale/nesoi/repos/napari/napari/layers/base/base.py:1701 : _update_draw: 0.5304600082884376, [array([ -13.97368444, -130.14442276]), array([524.97367717, 641.14441954])], (1454, 1016)\n",
      "DEBUG : 2022-10-11 12:17:29,567 : MainThread : /Users/kharrington/git/kephale/nesoi/repos/napari/napari/layers/base/base.py:1701 : _update_draw: 0.5304600082884376, [array([ -13.97368444, -130.14442276]), array([524.97367717, 641.14441954])], (1454, 1016)\n",
      "DEBUG : 2022-10-11 12:17:29,583 : MainThread : /Users/kharrington/git/kephale/nesoi/repos/napari/napari/layers/base/base.py:1701 : _update_draw: 0.5304600082884376, [array([ -13.97368444, -130.14442276]), array([524.97367717, 641.14441954])], (1454, 1016)\n",
      "DEBUG : 2022-10-11 12:17:29,598 : MainThread : /Users/kharrington/git/kephale/nesoi/repos/napari/napari/layers/base/base.py:1701 : _update_draw: 0.5304600082884376, [array([ -13.97368444, -130.14442276]), array([524.97367717, 641.14441954])], (1454, 1016)\n",
      "DEBUG : 2022-10-11 12:17:29,616 : MainThread : /Users/kharrington/git/kephale/nesoi/repos/napari/napari/layers/base/base.py:1701 : _update_draw: 0.5304600082884376, [array([ -13.97368444, -130.14442276]), array([524.97367717, 641.14441954])], (1454, 1016)\n",
      "DEBUG : 2022-10-11 12:17:29,625 : MainThread : /Users/kharrington/git/kephale/nesoi/repos/napari/napari/layers/base/base.py:1701 : _update_draw: 0.5304600082884376, [array([ -13.97368444, -130.14442276]), array([524.97367717, 641.14441954])], (1454, 1016)\n",
      "DEBUG : 2022-10-11 12:17:29,638 : MainThread : /Users/kharrington/git/kephale/nesoi/repos/napari/napari/layers/base/base.py:1701 : _update_draw: 0.5304600082884376, [array([ -13.97368444, -130.14442276]), array([524.97367717, 641.14441954])], (1454, 1016)\n",
      "DEBUG : 2022-10-11 12:17:29,655 : MainThread : /Users/kharrington/git/kephale/nesoi/repos/napari/napari/layers/base/base.py:1701 : _update_draw: 0.5304600082884376, [array([ -13.97368444, -130.14442276]), array([524.97367717, 641.14441954])], (1454, 1016)\n",
      "DEBUG : 2022-10-11 12:17:29,671 : MainThread : /Users/kharrington/git/kephale/nesoi/repos/napari/napari/layers/base/base.py:1701 : _update_draw: 0.5304600082884376, [array([ -13.97368444, -130.14442276]), array([524.97367717, 641.14441954])], (1454, 1016)\n",
      "DEBUG : 2022-10-11 12:17:29,687 : MainThread : /Users/kharrington/git/kephale/nesoi/repos/napari/napari/layers/base/base.py:1701 : _update_draw: 0.5304600082884376, [array([ -13.97368444, -130.14442276]), array([524.97367717, 641.14441954])], (1454, 1016)\n",
      "DEBUG : 2022-10-11 12:17:29,703 : MainThread : /Users/kharrington/git/kephale/nesoi/repos/napari/napari/layers/base/base.py:1701 : _update_draw: 0.5304600082884376, [array([ -13.97368444, -130.14442276]), array([524.97367717, 641.14441954])], (1454, 1016)\n",
      "DEBUG : 2022-10-11 12:17:29,714 : MainThread : /Users/kharrington/git/kephale/nesoi/repos/napari/napari/layers/base/base.py:1701 : _update_draw: 0.5304600082884376, [array([ -13.97368444, -130.14442276]), array([524.97367717, 641.14441954])], (1454, 1016)\n",
      "DEBUG : 2022-10-11 12:17:29,736 : MainThread : /Users/kharrington/git/kephale/nesoi/repos/napari/napari/layers/base/base.py:1701 : _update_draw: 0.5304600082884376, [array([ -13.97368444, -130.14442276]), array([524.97367717, 641.14441954])], (1454, 1016)\n",
      "DEBUG : 2022-10-11 12:17:29,752 : MainThread : /Users/kharrington/git/kephale/nesoi/repos/napari/napari/layers/base/base.py:1701 : _update_draw: 0.5304600082884376, [array([ -13.97368444, -130.14442276]), array([524.97367717, 641.14441954])], (1454, 1016)\n",
      "DEBUG : 2022-10-11 12:17:29,770 : MainThread : /Users/kharrington/git/kephale/nesoi/repos/napari/napari/layers/base/base.py:1701 : _update_draw: 0.5304600082884376, [array([ -13.97368444, -130.14442276]), array([524.97367717, 641.14441954])], (1454, 1016)\n",
      "DEBUG : 2022-10-11 12:17:29,792 : MainThread : /Users/kharrington/git/kephale/nesoi/repos/napari/napari/layers/base/base.py:1701 : _update_draw: 0.5304600082884376, [array([ -13.97368444, -130.14442276]), array([524.97367717, 641.14441954])], (1454, 1016)\n",
      "DEBUG : 2022-10-11 12:17:29,798 : MainThread : /Users/kharrington/git/kephale/nesoi/repos/napari/napari/layers/base/base.py:1701 : _update_draw: 0.5304600082884376, [array([ -13.97368444, -130.14442276]), array([524.97367717, 641.14441954])], (1454, 1016)\n",
      "DEBUG : 2022-10-11 12:17:29,809 : MainThread : /Users/kharrington/git/kephale/nesoi/repos/napari/napari/layers/base/base.py:1701 : _update_draw: 0.5304600082884376, [array([ -13.97368444, -130.14442276]), array([524.97367717, 641.14441954])], (1454, 1016)\n",
      "DEBUG : 2022-10-11 12:17:29,829 : MainThread : /Users/kharrington/git/kephale/nesoi/repos/napari/napari/layers/base/base.py:1701 : _update_draw: 0.5304600082884376, [array([ -13.97368444, -130.14442276]), array([524.97367717, 641.14441954])], (1454, 1016)\n",
      "DEBUG : 2022-10-11 12:17:29,842 : MainThread : /Users/kharrington/git/kephale/nesoi/repos/napari/napari/layers/base/base.py:1701 : _update_draw: 0.5304600082884376, [array([ -13.97368444, -130.14442276]), array([524.97367717, 641.14441954])], (1454, 1016)\n",
      "DEBUG : 2022-10-11 12:17:29,858 : MainThread : /Users/kharrington/git/kephale/nesoi/repos/napari/napari/layers/base/base.py:1701 : _update_draw: 0.5304600082884376, [array([ -13.97368444, -130.14442276]), array([524.97367717, 641.14441954])], (1454, 1016)\n",
      "DEBUG : 2022-10-11 12:17:29,872 : MainThread : /Users/kharrington/git/kephale/nesoi/repos/napari/napari/layers/base/base.py:1701 : _update_draw: 0.5304600082884376, [array([ -13.97368444, -130.14442276]), array([524.97367717, 641.14441954])], (1454, 1016)\n",
      "DEBUG : 2022-10-11 12:17:29,889 : MainThread : /Users/kharrington/git/kephale/nesoi/repos/napari/napari/layers/base/base.py:1701 : _update_draw: 0.5304600082884376, [array([ -13.97368444, -130.14442276]), array([524.97367717, 641.14441954])], (1454, 1016)\n",
      "DEBUG : 2022-10-11 12:17:29,906 : MainThread : /Users/kharrington/git/kephale/nesoi/repos/napari/napari/layers/base/base.py:1701 : _update_draw: 0.5304600082884376, [array([ -13.97368444, -130.14442276]), array([524.97367717, 641.14441954])], (1454, 1016)\n",
      "DEBUG : 2022-10-11 12:17:29,922 : MainThread : /Users/kharrington/git/kephale/nesoi/repos/napari/napari/layers/base/base.py:1701 : _update_draw: 0.5304600082884376, [array([ -13.97368444, -130.14442276]), array([524.97367717, 641.14441954])], (1454, 1016)\n",
      "DEBUG : 2022-10-11 12:17:29,943 : MainThread : /Users/kharrington/git/kephale/nesoi/repos/napari/napari/layers/base/base.py:1701 : _update_draw: 0.5304600082884376, [array([ -13.97368444, -130.14442276]), array([524.97367717, 641.14441954])], (1454, 1016)\n",
      "DEBUG : 2022-10-11 12:17:29,949 : MainThread : /Users/kharrington/git/kephale/nesoi/repos/napari/napari/layers/base/base.py:1701 : _update_draw: 0.5304600082884376, [array([ -13.97368444, -130.14442276]), array([524.97367717, 641.14441954])], (1454, 1016)\n",
      "DEBUG : 2022-10-11 12:17:29,963 : MainThread : /Users/kharrington/git/kephale/nesoi/repos/napari/napari/layers/base/base.py:1701 : _update_draw: 0.5304600082884376, [array([ -13.97368444, -130.14442276]), array([524.97367717, 641.14441954])], (1454, 1016)\n"
     ]
    },
    {
     "name": "stderr",
     "output_type": "stream",
     "text": [
      "DEBUG : 2022-10-11 12:17:29,976 : MainThread : /Users/kharrington/git/kephale/nesoi/repos/napari/napari/layers/base/base.py:1701 : _update_draw: 0.5304600082884376, [array([ -13.97368444, -130.14442276]), array([524.97367717, 641.14441954])], (1454, 1016)\n",
      "DEBUG : 2022-10-11 12:17:29,988 : MainThread : /Users/kharrington/git/kephale/nesoi/repos/napari/napari/layers/base/base.py:1701 : _update_draw: 0.5304600082884376, [array([ -13.97368444, -130.14442276]), array([524.97367717, 641.14441954])], (1454, 1016)\n",
      "DEBUG : 2022-10-11 12:17:30,000 : MainThread : /Users/kharrington/git/kephale/nesoi/repos/napari/napari/layers/base/base.py:1701 : _update_draw: 0.5304600082884376, [array([ -13.97368444, -130.14442276]), array([524.97367717, 641.14441954])], (1454, 1016)\n",
      "DEBUG : 2022-10-11 12:17:30,016 : MainThread : /Users/kharrington/git/kephale/nesoi/repos/napari/napari/layers/base/base.py:1701 : _update_draw: 0.5304600082884376, [array([ -13.97368444, -130.14442276]), array([524.97367717, 641.14441954])], (1454, 1016)\n",
      "DEBUG : 2022-10-11 12:17:30,032 : MainThread : /Users/kharrington/git/kephale/nesoi/repos/napari/napari/layers/base/base.py:1701 : _update_draw: 0.5304600082884376, [array([ -13.97368444, -130.14442276]), array([524.97367717, 641.14441954])], (1454, 1016)\n",
      "DEBUG : 2022-10-11 12:17:30,049 : MainThread : /Users/kharrington/git/kephale/nesoi/repos/napari/napari/layers/base/base.py:1701 : _update_draw: 0.5304600082884376, [array([ -13.97368444, -130.14442276]), array([524.97367717, 641.14441954])], (1454, 1016)\n",
      "DEBUG : 2022-10-11 12:17:30,062 : MainThread : /Users/kharrington/git/kephale/nesoi/repos/napari/napari/layers/base/base.py:1701 : _update_draw: 0.5304600082884376, [array([ -13.97368444, -130.14442276]), array([524.97367717, 641.14441954])], (1454, 1016)\n",
      "DEBUG : 2022-10-11 12:17:30,075 : MainThread : /Users/kharrington/git/kephale/nesoi/repos/napari/napari/layers/base/base.py:1701 : _update_draw: 0.5304600082884376, [array([ -13.97368444, -130.14442276]), array([524.97367717, 641.14441954])], (1454, 1016)\n",
      "DEBUG : 2022-10-11 12:17:30,092 : MainThread : /Users/kharrington/git/kephale/nesoi/repos/napari/napari/layers/base/base.py:1701 : _update_draw: 0.5304600082884376, [array([ -13.97368444, -130.14442276]), array([524.97367717, 641.14441954])], (1454, 1016)\n",
      "DEBUG : 2022-10-11 12:17:30,108 : MainThread : /Users/kharrington/git/kephale/nesoi/repos/napari/napari/layers/base/base.py:1701 : _update_draw: 0.5304600082884376, [array([ -13.97368444, -130.14442276]), array([524.97367717, 641.14441954])], (1454, 1016)\n",
      "DEBUG : 2022-10-11 12:17:30,122 : MainThread : /Users/kharrington/git/kephale/nesoi/repos/napari/napari/layers/base/base.py:1701 : _update_draw: 0.5304600082884376, [array([ -13.97368444, -130.14442276]), array([524.97367717, 641.14441954])], (1454, 1016)\n",
      "DEBUG : 2022-10-11 12:17:30,139 : MainThread : /Users/kharrington/git/kephale/nesoi/repos/napari/napari/layers/base/base.py:1701 : _update_draw: 0.5304600082884376, [array([ -13.97368444, -130.14442276]), array([524.97367717, 641.14441954])], (1454, 1016)\n",
      "DEBUG : 2022-10-11 12:17:30,154 : MainThread : /Users/kharrington/git/kephale/nesoi/repos/napari/napari/layers/base/base.py:1701 : _update_draw: 0.5304600082884376, [array([ -13.97368444, -130.14442276]), array([524.97367717, 641.14441954])], (1454, 1016)\n",
      "DEBUG : 2022-10-11 12:17:30,167 : MainThread : /Users/kharrington/git/kephale/nesoi/repos/napari/napari/layers/base/base.py:1701 : _update_draw: 0.5304600082884376, [array([ -13.97368444, -130.14442276]), array([524.97367717, 641.14441954])], (1454, 1016)\n",
      "DEBUG : 2022-10-11 12:17:30,180 : MainThread : /Users/kharrington/git/kephale/nesoi/repos/napari/napari/layers/base/base.py:1701 : _update_draw: 0.5304600082884376, [array([ -13.97368444, -130.14442276]), array([524.97367717, 641.14441954])], (1454, 1016)\n",
      "DEBUG : 2022-10-11 12:17:30,331 : MainThread : /Users/kharrington/git/kephale/nesoi/repos/napari/napari/layers/base/base.py:1701 : _update_draw: 0.5304600082884376, [array([ -13.97368444, -130.14442276]), array([524.97367717, 641.14441954])], (1454, 1016)\n",
      "DEBUG : 2022-10-11 12:17:30,349 : MainThread : /Users/kharrington/git/kephale/nesoi/repos/napari/napari/layers/base/base.py:1701 : _update_draw: 0.5304600082884376, [array([ -13.97368444, -130.14442276]), array([524.97367717, 641.14441954])], (1454, 1016)\n",
      "DEBUG : 2022-10-11 12:17:30,371 : MainThread : /Users/kharrington/git/kephale/nesoi/repos/napari/napari/layers/base/base.py:1701 : _update_draw: 0.5304600082884376, [array([ -13.97368444, -130.14442276]), array([524.97367717, 641.14441954])], (1454, 1016)\n",
      "DEBUG : 2022-10-11 12:17:30,378 : MainThread : /Users/kharrington/git/kephale/nesoi/repos/napari/napari/layers/base/base.py:1701 : _update_draw: 0.5304600082884376, [array([ -13.97368444, -130.14442276]), array([524.97367717, 641.14441954])], (1454, 1016)\n",
      "DEBUG : 2022-10-11 12:17:30,396 : MainThread : /Users/kharrington/git/kephale/nesoi/repos/napari/napari/layers/base/base.py:1701 : _update_draw: 0.5304600082884376, [array([ -13.97368444, -130.14442276]), array([524.97367717, 641.14441954])], (1454, 1016)\n",
      "DEBUG : 2022-10-11 12:17:30,410 : MainThread : /Users/kharrington/git/kephale/nesoi/repos/napari/napari/layers/base/base.py:1701 : _update_draw: 0.5304600082884376, [array([ -13.97368444, -130.14442276]), array([524.97367717, 641.14441954])], (1454, 1016)\n",
      "DEBUG : 2022-10-11 12:17:30,431 : MainThread : /Users/kharrington/git/kephale/nesoi/repos/napari/napari/layers/base/base.py:1701 : _update_draw: 0.5304600082884376, [array([ -13.97368444, -130.14442276]), array([524.97367717, 641.14441954])], (1454, 1016)\n",
      "DEBUG : 2022-10-11 12:17:30,438 : MainThread : /Users/kharrington/git/kephale/nesoi/repos/napari/napari/layers/base/base.py:1701 : _update_draw: 0.5304600082884376, [array([ -13.97368444, -130.14442276]), array([524.97367717, 641.14441954])], (1454, 1016)\n",
      "DEBUG : 2022-10-11 12:17:30,454 : MainThread : /Users/kharrington/git/kephale/nesoi/repos/napari/napari/layers/base/base.py:1701 : _update_draw: 0.5304600082884376, [array([ -13.97368444, -130.14442276]), array([524.97367717, 641.14441954])], (1454, 1016)\n",
      "DEBUG : 2022-10-11 12:17:30,470 : MainThread : /Users/kharrington/git/kephale/nesoi/repos/napari/napari/layers/base/base.py:1701 : _update_draw: 0.5304600082884376, [array([ -13.97368444, -130.14442276]), array([524.97367717, 641.14441954])], (1454, 1016)\n",
      "DEBUG : 2022-10-11 12:17:30,495 : MainThread : /Users/kharrington/git/kephale/nesoi/repos/napari/napari/layers/base/base.py:1701 : _update_draw: 0.5304600082884376, [array([ -13.97368444, -130.14442276]), array([524.97367717, 641.14441954])], (1454, 1016)\n",
      "DEBUG : 2022-10-11 12:17:30,500 : MainThread : /Users/kharrington/git/kephale/nesoi/repos/napari/napari/layers/base/base.py:1701 : _update_draw: 0.5304600082884376, [array([ -13.97368444, -130.14442276]), array([524.97367717, 641.14441954])], (1454, 1016)\n",
      "DEBUG : 2022-10-11 12:17:30,513 : MainThread : /Users/kharrington/git/kephale/nesoi/repos/napari/napari/layers/base/base.py:1701 : _update_draw: 0.5304600082884376, [array([ -13.97368444, -130.14442276]), array([524.97367717, 641.14441954])], (1454, 1016)\n",
      "DEBUG : 2022-10-11 12:17:30,526 : MainThread : /Users/kharrington/git/kephale/nesoi/repos/napari/napari/layers/base/base.py:1701 : _update_draw: 0.5304600082884376, [array([ -13.97368444, -130.14442276]), array([524.97367717, 641.14441954])], (1454, 1016)\n",
      "DEBUG : 2022-10-11 12:17:30,549 : MainThread : /Users/kharrington/git/kephale/nesoi/repos/napari/napari/layers/base/base.py:1701 : _update_draw: 0.5304600082884376, [array([ -13.97368444, -130.14442276]), array([524.97367717, 641.14441954])], (1454, 1016)\n",
      "DEBUG : 2022-10-11 12:17:30,554 : MainThread : /Users/kharrington/git/kephale/nesoi/repos/napari/napari/layers/base/base.py:1701 : _update_draw: 0.5304600082884376, [array([ -13.97368444, -130.14442276]), array([524.97367717, 641.14441954])], (1454, 1016)\n",
      "DEBUG : 2022-10-11 12:17:30,570 : MainThread : /Users/kharrington/git/kephale/nesoi/repos/napari/napari/layers/base/base.py:1701 : _update_draw: 0.5304600082884376, [array([ -13.97368444, -130.14442276]), array([524.97367717, 641.14441954])], (1454, 1016)\n",
      "DEBUG : 2022-10-11 12:17:30,586 : MainThread : /Users/kharrington/git/kephale/nesoi/repos/napari/napari/layers/base/base.py:1701 : _update_draw: 0.5304600082884376, [array([ -13.97368444, -130.14442276]), array([524.97367717, 641.14441954])], (1454, 1016)\n"
     ]
    },
    {
     "name": "stderr",
     "output_type": "stream",
     "text": [
      "DEBUG : 2022-10-11 12:17:30,609 : MainThread : /Users/kharrington/git/kephale/nesoi/repos/napari/napari/layers/base/base.py:1701 : _update_draw: 0.5304600082884376, [array([ -13.97368444, -130.14442276]), array([524.97367717, 641.14441954])], (1454, 1016)\n",
      "DEBUG : 2022-10-11 12:17:30,616 : MainThread : /Users/kharrington/git/kephale/nesoi/repos/napari/napari/layers/base/base.py:1701 : _update_draw: 0.5304600082884376, [array([ -13.97368444, -130.14442276]), array([524.97367717, 641.14441954])], (1454, 1016)\n",
      "DEBUG : 2022-10-11 12:17:30,630 : MainThread : /Users/kharrington/git/kephale/nesoi/repos/napari/napari/layers/base/base.py:1701 : _update_draw: 0.5304600082884376, [array([ -13.97368444, -130.14442276]), array([524.97367717, 641.14441954])], (1454, 1016)\n",
      "DEBUG : 2022-10-11 12:17:30,647 : MainThread : /Users/kharrington/git/kephale/nesoi/repos/napari/napari/layers/base/base.py:1701 : _update_draw: 0.5304600082884376, [array([ -13.97368444, -130.14442276]), array([524.97367717, 641.14441954])], (1454, 1016)\n",
      "DEBUG : 2022-10-11 12:17:30,663 : MainThread : /Users/kharrington/git/kephale/nesoi/repos/napari/napari/layers/base/base.py:1701 : _update_draw: 0.5304600082884376, [array([ -13.97368444, -130.14442276]), array([524.97367717, 641.14441954])], (1454, 1016)\n",
      "DEBUG : 2022-10-11 12:17:30,678 : MainThread : /Users/kharrington/git/kephale/nesoi/repos/napari/napari/layers/base/base.py:1701 : _update_draw: 0.5304600082884376, [array([ -13.97368444, -130.14442276]), array([524.97367717, 641.14441954])], (1454, 1016)\n",
      "DEBUG : 2022-10-11 12:17:30,695 : MainThread : /Users/kharrington/git/kephale/nesoi/repos/napari/napari/layers/base/base.py:1701 : _update_draw: 0.5304600082884376, [array([ -13.97368444, -130.14442276]), array([524.97367717, 641.14441954])], (1454, 1016)\n",
      "DEBUG : 2022-10-11 12:17:30,709 : MainThread : /Users/kharrington/git/kephale/nesoi/repos/napari/napari/layers/base/base.py:1701 : _update_draw: 0.5304600082884376, [array([ -13.97368444, -130.14442276]), array([524.97367717, 641.14441954])], (1454, 1016)\n",
      "DEBUG : 2022-10-11 12:17:30,729 : MainThread : /Users/kharrington/git/kephale/nesoi/repos/napari/napari/layers/base/base.py:1701 : _update_draw: 0.5304600082884376, [array([ -13.97368444, -130.14442276]), array([524.97367717, 641.14441954])], (1454, 1016)\n",
      "DEBUG : 2022-10-11 12:17:30,744 : MainThread : /Users/kharrington/git/kephale/nesoi/repos/napari/napari/layers/base/base.py:1701 : _update_draw: 0.5304600082884376, [array([ -13.97368444, -130.14442276]), array([524.97367717, 641.14441954])], (1454, 1016)\n",
      "DEBUG : 2022-10-11 12:17:30,760 : MainThread : /Users/kharrington/git/kephale/nesoi/repos/napari/napari/layers/base/base.py:1701 : _update_draw: 0.5304600082884376, [array([ -13.97368444, -130.14442276]), array([524.97367717, 641.14441954])], (1454, 1016)\n",
      "DEBUG : 2022-10-11 12:17:30,783 : MainThread : /Users/kharrington/git/kephale/nesoi/repos/napari/napari/layers/base/base.py:1701 : _update_draw: 0.5304600082884376, [array([ -13.97368444, -130.14442276]), array([524.97367717, 641.14441954])], (1454, 1016)\n",
      "DEBUG : 2022-10-11 12:17:30,790 : MainThread : /Users/kharrington/git/kephale/nesoi/repos/napari/napari/layers/base/base.py:1701 : _update_draw: 0.5304600082884376, [array([ -13.97368444, -130.14442276]), array([524.97367717, 641.14441954])], (1454, 1016)\n",
      "DEBUG : 2022-10-11 12:17:30,808 : MainThread : /Users/kharrington/git/kephale/nesoi/repos/napari/napari/layers/base/base.py:1701 : _update_draw: 0.5304600082884376, [array([ -13.97368444, -130.14442276]), array([524.97367717, 641.14441954])], (1454, 1016)\n",
      "DEBUG : 2022-10-11 12:17:30,824 : MainThread : /Users/kharrington/git/kephale/nesoi/repos/napari/napari/layers/base/base.py:1701 : _update_draw: 0.5304600082884376, [array([ -13.97368444, -130.14442276]), array([524.97367717, 641.14441954])], (1454, 1016)\n",
      "DEBUG : 2022-10-11 12:17:30,839 : MainThread : /Users/kharrington/git/kephale/nesoi/repos/napari/napari/layers/base/base.py:1701 : _update_draw: 0.5304600082884376, [array([ -13.97368444, -130.14442276]), array([524.97367717, 641.14441954])], (1454, 1016)\n",
      "DEBUG : 2022-10-11 12:17:30,855 : MainThread : /Users/kharrington/git/kephale/nesoi/repos/napari/napari/layers/base/base.py:1701 : _update_draw: 0.5304600082884376, [array([ -13.97368444, -130.14442276]), array([524.97367717, 641.14441954])], (1454, 1016)\n",
      "DEBUG : 2022-10-11 12:17:30,871 : MainThread : /Users/kharrington/git/kephale/nesoi/repos/napari/napari/layers/base/base.py:1701 : _update_draw: 0.5304600082884376, [array([ -13.97368444, -130.14442276]), array([524.97367717, 641.14441954])], (1454, 1016)\n",
      "DEBUG : 2022-10-11 12:17:30,881 : MainThread : /Users/kharrington/git/kephale/nesoi/repos/napari/napari/layers/base/base.py:1701 : _update_draw: 0.5304600082884376, [array([ -13.97368444, -130.14442276]), array([524.97367717, 641.14441954])], (1454, 1016)\n",
      "DEBUG : 2022-10-11 12:17:30,896 : MainThread : /Users/kharrington/git/kephale/nesoi/repos/napari/napari/layers/base/base.py:1701 : _update_draw: 0.5304600082884376, [array([ -13.97368444, -130.14442276]), array([524.97367717, 641.14441954])], (1454, 1016)\n",
      "DEBUG : 2022-10-11 12:17:30,910 : MainThread : /Users/kharrington/git/kephale/nesoi/repos/napari/napari/layers/base/base.py:1701 : _update_draw: 0.5304600082884376, [array([ -13.97368444, -130.14442276]), array([524.97367717, 641.14441954])], (1454, 1016)\n",
      "DEBUG : 2022-10-11 12:17:30,921 : MainThread : /Users/kharrington/git/kephale/nesoi/repos/napari/napari/layers/base/base.py:1701 : _update_draw: 0.5304600082884376, [array([ -13.97368444, -130.14442276]), array([524.97367717, 641.14441954])], (1454, 1016)\n",
      "DEBUG : 2022-10-11 12:17:30,945 : MainThread : /Users/kharrington/git/kephale/nesoi/repos/napari/napari/layers/base/base.py:1701 : _update_draw: 0.5304600082884376, [array([ -13.97368444, -130.14442276]), array([524.97367717, 641.14441954])], (1454, 1016)\n",
      "DEBUG : 2022-10-11 12:17:31,542 : MainThread : /Users/kharrington/git/kephale/nesoi/repos/napari/napari/layers/base/base.py:1701 : _update_draw: 0.5304600082884376, [array([ -13.97368444, -130.14442276]), array([524.97367717, 641.14441954])], (1454, 1016)\n",
      "DEBUG : 2022-10-11 12:17:31,600 : MainThread : /Users/kharrington/git/kephale/nesoi/repos/napari/napari/layers/base/base.py:1701 : _update_draw: 0.5304600082884376, [array([ -13.97368444, -130.14442276]), array([524.97367717, 641.14441954])], (1454, 1016)\n",
      "DEBUG : 2022-10-11 12:17:31,661 : MainThread : /Users/kharrington/git/kephale/nesoi/repos/napari/napari/layers/base/base.py:1701 : _update_draw: 0.5304600082884376, [array([ -13.97368444, -130.14442276]), array([524.97367717, 641.14441954])], (1454, 1016)\n",
      "DEBUG : 2022-10-11 12:17:31,792 : MainThread : /Users/kharrington/git/kephale/nesoi/repos/napari/napari/layers/base/base.py:1701 : _update_draw: 0.5304600082884376, [array([ -13.97368444, -130.14442276]), array([524.97367717, 641.14441954])], (1454, 1016)\n",
      "DEBUG : 2022-10-11 12:17:31,850 : MainThread : /Users/kharrington/git/kephale/nesoi/repos/napari/napari/layers/base/base.py:1701 : _update_draw: 0.5304600082884376, [array([ -13.97368444, -130.14442276]), array([524.97367717, 641.14441954])], (1454, 1016)\n",
      "DEBUG : 2022-10-11 12:17:31,874 : MainThread : /Users/kharrington/git/kephale/nesoi/repos/napari/napari/layers/base/base.py:1701 : _update_draw: 0.5304600082884376, [array([ -13.97368444, -130.14442276]), array([524.97367717, 641.14441954])], (1454, 1016)\n",
      "DEBUG : 2022-10-11 12:17:31,899 : MainThread : /Users/kharrington/git/kephale/nesoi/repos/napari/napari/layers/base/base.py:1701 : _update_draw: 0.5304600082884376, [array([ -13.97368444, -130.14442276]), array([524.97367717, 641.14441954])], (1454, 1016)\n",
      "DEBUG : 2022-10-11 12:17:31,921 : MainThread : /Users/kharrington/git/kephale/nesoi/repos/napari/napari/layers/base/base.py:1701 : _update_draw: 0.5304600082884376, [array([ -13.97368444, -130.14442276]), array([524.97367717, 641.14441954])], (1454, 1016)\n",
      "DEBUG : 2022-10-11 12:17:31,953 : MainThread : /Users/kharrington/git/kephale/nesoi/repos/napari/napari/layers/base/base.py:1701 : _update_draw: 0.5304600082884376, [array([ -13.97368444, -130.14442276]), array([524.97367717, 641.14441954])], (1454, 1016)\n",
      "DEBUG : 2022-10-11 12:17:31,990 : MainThread : /Users/kharrington/git/kephale/nesoi/repos/napari/napari/layers/base/base.py:1701 : _update_draw: 0.5304600082884376, [array([ -13.97368444, -130.14442276]), array([524.97367717, 641.14441954])], (1454, 1016)\n"
     ]
    },
    {
     "name": "stderr",
     "output_type": "stream",
     "text": [
      "DEBUG : 2022-10-11 12:17:33,618 : MainThread : /Users/kharrington/git/kephale/nesoi/repos/napari/napari/layers/base/base.py:1701 : _update_draw: 0.5304600082884376, [array([ -13.97368444, -130.14442276]), array([524.97367717, 641.14441954])], (1454, 1016)\n",
      "DEBUG : 2022-10-11 12:17:33,931 : MainThread : /Users/kharrington/git/kephale/nesoi/repos/napari/napari/layers/base/base.py:1701 : _update_draw: 0.8915589221191939, [array([-197.4119186 , -103.79824256]), array([708.41190776, 614.79821812])], (806, 1016)\n",
      "DEBUG : 2022-10-11 12:17:33,946 : MainThread : /Users/kharrington/git/kephale/nesoi/repos/napari/napari/layers/base/base.py:1701 : _update_draw: 0.8915589221191939, [array([-197.4119186 , -103.79824256]), array([708.41190776, 614.79821812])], (806, 1016)\n",
      "DEBUG : 2022-10-11 12:17:34,437 : MainThread : /Users/kharrington/git/kephale/nesoi/repos/napari/napari/layers/base/base.py:1701 : _update_draw: 0.8915589221191939, [array([-197.85769804, -103.79824256]), array([708.8576872 , 614.79821812])], (806, 1017)\n",
      "DEBUG : 2022-10-11 12:17:34,459 : MainThread : /Users/kharrington/git/kephale/nesoi/repos/napari/napari/layers/base/base.py:1701 : _update_draw: 0.8915589221191939, [array([-197.85769804, -103.79824256]), array([708.8576872 , 614.79821812])], (806, 1017)\n",
      "DEBUG : 2022-10-11 12:17:34,479 : MainThread : /Users/kharrington/git/kephale/nesoi/repos/napari/napari/layers/base/base.py:1701 : _update_draw: 0.8915589221191939, [array([-221.03822903, -103.79824256]), array([732.03821819, 614.79821812])], (806, 1069)\n",
      "DEBUG : 2022-10-11 12:17:34,494 : MainThread : /Users/kharrington/git/kephale/nesoi/repos/napari/napari/layers/base/base.py:1701 : _update_draw: 0.8915589221191939, [array([-221.03822903, -103.79824256]), array([732.03821819, 614.79821812])], (806, 1069)\n",
      "DEBUG : 2022-10-11 12:17:34,528 : MainThread : /Users/kharrington/git/kephale/nesoi/repos/napari/napari/layers/base/base.py:1701 : _update_draw: 0.8915589221191939, [array([-276.31487986, -103.79824256]), array([787.31486901, 614.79821812])], (806, 1193)\n",
      "DEBUG : 2022-10-11 12:17:34,543 : MainThread : /Users/kharrington/git/kephale/nesoi/repos/napari/napari/layers/base/base.py:1701 : _update_draw: 0.8915589221191939, [array([-276.31487986, -103.79824256]), array([787.31486901, 614.79821812])], (806, 1193)\n",
      "DEBUG : 2022-10-11 12:17:34,560 : MainThread : /Users/kharrington/git/kephale/nesoi/repos/napari/napari/layers/base/base.py:1701 : _update_draw: 0.8915589221191939, [array([-323.12172128, -103.79824256]), array([834.12171044, 614.79821812])], (806, 1298)\n",
      "DEBUG : 2022-10-11 12:17:34,576 : MainThread : /Users/kharrington/git/kephale/nesoi/repos/napari/napari/layers/base/base.py:1701 : _update_draw: 0.8915589221191939, [array([-323.12172128, -103.79824256]), array([834.12171044, 614.79821812])], (806, 1298)\n",
      "DEBUG : 2022-10-11 12:17:34,594 : MainThread : /Users/kharrington/git/kephale/nesoi/repos/napari/napari/layers/base/base.py:1701 : _update_draw: 0.8915589221191939, [array([-377.06103377, -103.79824256]), array([888.06102293, 614.79821812])], (806, 1419)\n",
      "DEBUG : 2022-10-11 12:17:34,612 : MainThread : /Users/kharrington/git/kephale/nesoi/repos/napari/napari/layers/base/base.py:1701 : _update_draw: 0.8915589221191939, [array([-377.06103377, -103.79824256]), array([888.06102293, 614.79821812])], (806, 1419)\n",
      "DEBUG : 2022-10-11 12:17:34,646 : MainThread : /Users/kharrington/git/kephale/nesoi/repos/napari/napari/layers/base/base.py:1701 : _update_draw: 0.8915589221191939, [array([-457.74714   , -103.79824256]), array([968.74707474, 614.79821812])], (806, 1600)\n",
      "DEBUG : 2022-10-11 12:17:34,663 : MainThread : /Users/kharrington/git/kephale/nesoi/repos/napari/napari/layers/base/base.py:1701 : _update_draw: 0.8915589221191939, [array([-457.74714   , -103.79824256]), array([968.74707474, 614.79821812])], (806, 1600)\n",
      "DEBUG : 2022-10-11 12:17:34,696 : MainThread : /Users/kharrington/git/kephale/nesoi/repos/napari/napari/layers/base/base.py:1701 : _update_draw: 0.8915589221191939, [array([-521.04782078, -103.79824256]), array([1032.04775552,  614.79821812])], (806, 1742)\n",
      "DEBUG : 2022-10-11 12:17:34,716 : MainThread : /Users/kharrington/git/kephale/nesoi/repos/napari/napari/layers/base/base.py:1701 : _update_draw: 0.8915589221191939, [array([-521.04782078, -103.79824256]), array([1032.04775552,  614.79821812])], (806, 1742)\n",
      "DEBUG : 2022-10-11 12:17:34,746 : MainThread : /Users/kharrington/git/kephale/nesoi/repos/napari/napari/layers/base/base.py:1701 : _update_draw: 0.8915589221191939, [array([-556.71017615, -103.79824256]), array([1067.71011089,  614.79821812])], (806, 1822)\n",
      "DEBUG : 2022-10-11 12:17:34,769 : MainThread : /Users/kharrington/git/kephale/nesoi/repos/napari/napari/layers/base/base.py:1701 : _update_draw: 0.8915589221191939, [array([-556.71017615, -103.79824256]), array([1067.71011089,  614.79821812])], (806, 1822)\n",
      "DEBUG : 2022-10-11 12:17:34,791 : MainThread : /Users/kharrington/git/kephale/nesoi/repos/napari/napari/layers/base/base.py:1701 : _update_draw: 0.8915589221191939, [array([-561.16797057, -103.79824256]), array([1072.16790531,  614.79821812])], (806, 1832)\n",
      "DEBUG : 2022-10-11 12:17:34,815 : MainThread : /Users/kharrington/git/kephale/nesoi/repos/napari/napari/layers/base/base.py:1701 : _update_draw: 0.8915589221191939, [array([-561.16797057, -103.79824256]), array([1072.16790531,  614.79821812])], (806, 1832)\n"
     ]
    }
   ],
   "source": [
    "def sheet_napari(sheet, coords=None, interactive=True, **draw_specs_kw):\n",
    "    \"\"\"Uses VisPy to display an epithelium\"\"\"\n",
    "    draw_specs = sheet_spec()\n",
    "    spec_updater(draw_specs, draw_specs_kw)\n",
    "\n",
    "    viewer = napari.Viewer()\n",
    "\n",
    "    # Vispy scene creation\n",
    "    # if coords is None:\n",
    "    #     coords = [\"x\", \"y\", \"z\"]\n",
    "    # canvas = scene.SceneCanvas(keys=\"interactive\", show=True, size=(1240, 720))\n",
    "\n",
    "    canvas = viewer.window.qt_viewer.canvas\n",
    "    \n",
    "    view = canvas.central_widget.add_view()\n",
    "    view.camera = \"turntable\"\n",
    "    view.camera.aspect = 1\n",
    "    view.bgcolor = vp.color.Color(\"#222222\")\n",
    "    if draw_specs[\"edge\"][\"visible\"]:\n",
    "        wire = edge_visual(sheet, coords, **draw_specs[\"edge\"])\n",
    "        view.add(wire)\n",
    "    if draw_specs[\"face\"][\"visible\"]:\n",
    "        mesh = face_visual(sheet, coords, **draw_specs[\"face\"])\n",
    "        view.add(mesh)\n",
    "\n",
    "    canvas.show()\n",
    "    view.camera.set_range()\n",
    "    if interactive:\n",
    "        napari.run()\n",
    "    return canvas, view\n",
    "\n",
    "\n",
    "\n",
    "# fig, mesh = sheet_napari(sheet, coords=['z', 'x', 'y'], edge={\"color\":color}, mode=\"3D\", interactive=True)\n",
    "fig, mesh = sheet_napari(sheet, coords=['z', 'x', 'y'], mode=\"3D\", interactive=True)\n",
    "fig\n",
    "\n",
    "\n"
   ]
  },
  {
   "cell_type": "code",
   "execution_count": 15,
   "metadata": {},
   "outputs": [
    {
     "data": {
      "text/plain": [
       "['_Frozen__isfrozen',\n",
       " '__class__',\n",
       " '__delattr__',\n",
       " '__dict__',\n",
       " '__dir__',\n",
       " '__doc__',\n",
       " '__eq__',\n",
       " '__format__',\n",
       " '__ge__',\n",
       " '__getattribute__',\n",
       " '__gt__',\n",
       " '__hash__',\n",
       " '__init__',\n",
       " '__init_subclass__',\n",
       " '__le__',\n",
       " '__lt__',\n",
       " '__module__',\n",
       " '__ne__',\n",
       " '__new__',\n",
       " '__reduce__',\n",
       " '__reduce_ex__',\n",
       " '__repr__',\n",
       " '__setattr__',\n",
       " '__sizeof__',\n",
       " '__str__',\n",
       " '__subclasshook__',\n",
       " '__weakref__',\n",
       " '_add_child',\n",
       " '_bounds',\n",
       " '_bounds_changed',\n",
       " '_build_color_transform',\n",
       " '_canvas',\n",
       " '_children',\n",
       " '_clim',\n",
       " '_clim_values',\n",
       " '_clip_children',\n",
       " '_clipper',\n",
       " '_clippers',\n",
       " '_cmap',\n",
       " '_color',\n",
       " '_compute_bounds',\n",
       " '_configure_gl_state',\n",
       " '_data_changed',\n",
       " '_describe_tree',\n",
       " '_document',\n",
       " '_document_node',\n",
       " '_draw_mode',\n",
       " '_ensure_vec4_func',\n",
       " '_filters',\n",
       " '_get_hook',\n",
       " '_hooks',\n",
       " '_id',\n",
       " '_index_buffer',\n",
       " '_interactive',\n",
       " '_meshdata',\n",
       " '_name',\n",
       " '_next_id',\n",
       " '_opacity',\n",
       " '_opacity_filter',\n",
       " '_order',\n",
       " '_parent',\n",
       " '_picking',\n",
       " '_picking_filter',\n",
       " '_prepare_draw',\n",
       " '_prepare_transforms',\n",
       " '_program',\n",
       " '_remove_child',\n",
       " '_scene_node',\n",
       " '_set_canvas',\n",
       " '_set_clipper',\n",
       " '_shaders',\n",
       " '_shading',\n",
       " '_transform',\n",
       " '_transform_changed',\n",
       " '_transforms',\n",
       " '_update_data',\n",
       " '_update_opacity',\n",
       " '_update_trsys',\n",
       " '_vertices',\n",
       " '_view_class',\n",
       " '_visible',\n",
       " '_visual_ids',\n",
       " '_visual_superclass',\n",
       " '_vshare',\n",
       " 'attach',\n",
       " 'bounds',\n",
       " 'canvas',\n",
       " 'children',\n",
       " 'clim',\n",
       " 'clip_children',\n",
       " 'clipper',\n",
       " 'cmap',\n",
       " 'color',\n",
       " 'common_parent',\n",
       " 'describe_tree',\n",
       " 'detach',\n",
       " 'document',\n",
       " 'document_node',\n",
       " 'draw',\n",
       " 'events',\n",
       " 'freeze',\n",
       " 'get_transform',\n",
       " 'interactive',\n",
       " 'is_child',\n",
       " 'mesh_data',\n",
       " 'mesh_data_changed',\n",
       " 'mode',\n",
       " 'name',\n",
       " 'node_path',\n",
       " 'node_path_to_child',\n",
       " 'node_path_transforms',\n",
       " 'node_transform',\n",
       " 'on_parent_change',\n",
       " 'opacity',\n",
       " 'order',\n",
       " 'parent',\n",
       " 'parent_chain',\n",
       " 'picking',\n",
       " 'root_node',\n",
       " 'scene_node',\n",
       " 'set_data',\n",
       " 'set_gl_state',\n",
       " 'set_transform',\n",
       " 'shading',\n",
       " 'shading_filter',\n",
       " 'shared_program',\n",
       " 'transform',\n",
       " 'transforms',\n",
       " 'unfreeze',\n",
       " 'update',\n",
       " 'update_gl_state',\n",
       " 'view',\n",
       " 'view_program',\n",
       " 'visible']"
      ]
     },
     "execution_count": 15,
     "metadata": {},
     "output_type": "execute_result"
    }
   ],
   "source": [
    "draw_specs = sheet_spec()\n",
    "mesh = face_visual(sheet, None, **draw_specs[\"face\"])\n",
    "dir(mesh)"
   ]
  },
  {
   "cell_type": "code",
   "execution_count": null,
   "metadata": {},
   "outputs": [],
   "source": [
    "\n",
    "color = sheet.vert_df['y']\n",
    "fig, mesh = sheet_view(sheet, coords=['z', 'x', 'y'], edge={\"color\":color}, mode=\"3D\")\n",
    "fig"
   ]
  },
  {
   "cell_type": "code",
   "execution_count": 16,
   "metadata": {
    "scrolled": false
   },
   "outputs": [
    {
     "ename": "NameError",
     "evalue": "name 'browse_history' is not defined",
     "output_type": "error",
     "traceback": [
      "\u001b[0;31m---------------------------------------------------------------------------\u001b[0m",
      "\u001b[0;31mNameError\u001b[0m                                 Traceback (most recent call last)",
      "Cell \u001b[0;32mIn [16], line 1\u001b[0m\n\u001b[0;32m----> 1\u001b[0m \u001b[43mbrowse_history\u001b[49m(history, edge\u001b[38;5;241m=\u001b[39m{\u001b[38;5;124m\"\u001b[39m\u001b[38;5;124mcolor\u001b[39m\u001b[38;5;124m\"\u001b[39m:\u001b[38;5;28;01mlambda\u001b[39;00m s : s\u001b[38;5;241m.\u001b[39medge_df[\u001b[38;5;124m\"\u001b[39m\u001b[38;5;124mlength\u001b[39m\u001b[38;5;124m\"\u001b[39m]})\n",
      "\u001b[0;31mNameError\u001b[0m: name 'browse_history' is not defined"
     ]
    }
   ],
   "source": [
    "browse_history(history, edge={\"color\":lambda s : s.edge_df[\"length\"]})"
   ]
  },
  {
   "cell_type": "markdown",
   "metadata": {},
   "source": [
    "Provided you have ImageMagick installed, we can convert the output to a nice gif, like so:"
   ]
  },
  {
   "cell_type": "code",
   "execution_count": null,
   "metadata": {},
   "outputs": [],
   "source": [
    "create_gif(\n",
    "    history,\n",
    "    'single_apopto.gif',\n",
    "    num_frames=15,\n",
    "    draw_func=leg_joint_view\n",
    ")"
   ]
  },
  {
   "cell_type": "code",
   "execution_count": null,
   "metadata": {},
   "outputs": [],
   "source": [
    "# Image(\"single_apopto.gif\")"
   ]
  },
  {
   "cell_type": "code",
   "execution_count": 8,
   "metadata": {},
   "outputs": [],
   "source": [
    "import pickle\n",
    "\n",
    "pickle.dump(history, open( \"apoptosis_history.pickle\", \"wb\" ))"
   ]
  }
 ],
 "metadata": {
  "kernelspec": {
   "display_name": "Python 3 (ipykernel)",
   "language": "python",
   "name": "python3"
  },
  "language_info": {
   "codemirror_mode": {
    "name": "ipython",
    "version": 3
   },
   "file_extension": ".py",
   "mimetype": "text/x-python",
   "name": "python",
   "nbconvert_exporter": "python",
   "pygments_lexer": "ipython3",
   "version": "3.9.13"
  },
  "widgets": {
   "application/vnd.jupyter.widget-state+json": {
    "state": {
     "16366d638fbd4786a3d059399b5d077b": {
      "buffers": [
       {
        "data": "zsL+PfD3Ez+JXAw/DmduPop0Oz9bJus+dqcLP7mJVj/aHo0+fLk/PpZZ1D7deQ4/PPlEPhlwzj5FSw4/KA0FPsRADz/2Rg0/dR51Pn9PPD/wT+k+KA0FPsRADz/2Rg0/DmduPop0Oz9bJus+GVgTP3o1WD/USIM+MzQOP+MaVz8z34k+mRFOPmVwxD425g0/mRFOPmVwxD425g0/idEDPiMyED9YHQ0/DmduPop0Oz9bJus+MKECPpIjET898Qw/dR51Pn9PPD/wT+k+MzQOP+MaVz8z34k+/u4VP8a+WD8A5X8+xjRDPk1q0D7ZWw4/fLk/PpZZ1D7deQ4/zsL+PfD3Ez+JXAw/DmduPop0Oz9bJus+dqcLP7mJVj/aHo0+2zNLPx10YT8uxfU9qOJiP59yZD9yU8M9jExgP8UgZD9vEsM9OnVlPwXEZD9JS8U9gEV+P+j5Zz/1YxM+gEV+P+j5Zz/1YxM+B7NdP2TOYz8Cg8Q9395NP8TNYT/Fcus9qOJiP59yZD9yU8M9/wNoPzgVZT/D9cg92zNLPx10YT8uxfU9qOJiP59yZD9yU8M92zNLPx10YT8uxfU9dqcLP7mJVj/aHo0+B7NdP2TOYz8Cg8Q9m8s9P1uaXz+FJhk+dR4JPwH2VT8/VpA+ol4wPwCOXT9DHDs+odlFP/W7YD9wQQY+Z3v0PidKUj906qI+VWnTPhiUTT/267Y+2zNLPx10YT8uxfU9dqcLP7mJVj/aHo0+DmduPop0Oz9bJus+zsL+PfD3Ez+JXAw/ndRnPmeYOj+u8uw+zsL+PfD3Ez+JXAw/gSIWPgFNLD+hSQI/fxJPPhEcNz9IwfM+gsgSPnTUBT9ZaQ4/ZJAbPuQsAD8Gvg4/DmduPop0Oz9bJus+zsL+PfD3Ez+JXAw/fLk/PpZZ1D7deQ4/5+OCPt16hT51Pwc/CHVBPsxi0j5haw4/vCNzPnBDnD5Wuwo/SMKOPqezMz7Qf/c+veKJPtMRYD6jcwI/Brx8PnEEkT5uMwk/mRFOPmVwxD425g0/UySPPoGxLj4rwvU+9rOQPuhOED6rP+o+fLk/PpZZ1D7deQ4/5+OCPt16hT51Pwc/UYiQPvVpFT4KS+w+SriQPo8zzT1bJdg+Mv+QPqPp7D13St8+cZGLPn9p0TybyLQ+JXqJPkpeHTwWvas+TtWNPoM1Tj23XcA+GjaKPrKdbzw6ya4+Ko2QPsR3wj1prNU+gsaMPtehGj1hpbo+wLSIPhO2nzsVqag+UYiQPvVpFT4KS+w+SriQPo8zzT1bJdg+UYiQPvVpFT4KS+w+5+OCPt16hT51Pwc/Mv+QPqPp7D13St8+RiOPPprtij1Yqcg+Ci2LPodTVj6WIgE/LH2IPoS9aT5grAM/RiOPPprtij1Yqcg+TvGQPpxp4j2l9Nw+1v6GPopVcz6WzQQ/bouKPuc0Wz4pzgE/UYiQPvVpFT4KS+w+5+OCPt16hT51Pwc/tcL0PcOCGz+6Swo/",
        "encoding": "base64",
        "path": [
         "color",
         0,
         "buffer"
        ]
       },
       {
        "data": "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",
        "encoding": "base64",
        "path": [
         "lines",
         0,
         "buffer"
        ]
       },
       {
        "data": "xT5qwe32TMHFPmrB7fZMwWMACMFyP9vASVcJweLEYsA2LNK/udZqwGc64MDbvcK/wE+4P0XhVkC//qo/KbjXQCLZBUEUedRAgDlMQBYdB0Ht9kxBxT5qQe32TEHFPmpB7fZMwcU+asH9BQzBxajlvzMAd8DVDenAnAGGPyVSA0GPacpAhrUzQO32TEHFPmpB7fZMwcU+asEVTw/BdfoRwP3EwcAeBru9jTb9QFhNyEB3Es4/7fZMQcU+akHt9kzBxT5qwR1x3sBPAy7ADMAKPzUGA0E7R9hAvGN8QO32TEHFPmpB7fZMwcU+asFQ1QDB49CqvwNgTcAzSNLAbtcBQGdGCkGVluBAlwxwQO32TEHFPmpB7fZMwcU+asENCgXBaFevvwxiVcCX4dfAlCDcP5E4CUEUL9xAc3tjQO32TEHFPmpB7fZMwcU+asFe9QbBz9O4v7a4XMBcMtnAVlPFP6X/B0GRPNlAlCpdQO32TEHFPmpBMOu1wA==",
        "encoding": "base64",
        "path": [
         "x",
         0,
         "buffer"
        ]
       },
       {
        "data": "aiUBQYeh7kDmo7ZAh6HuQD90/EBIywxB6nsBQSz8EkHczwxBsSrjQLuv20At4wdBW+UHQfr3EUGoIgtBWRELQR+V+0A5WMlAhVvWQJ7y+0CHoe5AaiUBQYeh7kDmo7ZAObBFQNl0DiYZxXNArxqIQChGrT9uibg/9iOAQCw5U0ARtpE9aD6XPjmwRUDZdA4mObBFwOajtsDFEjHAfG5UwABbosDdI2fA57RCwAaau8A6lLzAObBFwOajtsCHoe7AaiUBwbN918CT/vrA4gfzwKBG88DAQgfBowIMwYeh7sBqJQHBh6HuwOajtsAyjuXA3ujxwASgusA2WbLAlp/6wLuC9sDXRbHAt+S5wIeh7sDmo7bAObBFwDl88KfH5kHAT5gvwLEi2D7WgJ4+icYtwKg5Q8A5p/c+7IEHPzmwRcA5fPCnObBFQOajtkB/zlNAtkBzQN2Hz0A4RsVAK0B2QJibWEB7QchAvnbRQDmwRUDmo7ZA0SvtwA==",
        "encoding": "base64",
        "path": [
         "y",
         0,
         "buffer"
        ]
       },
       {
        "data": "aiWBJzmwRUDmo7ZAObBFwIiuVcAeaZ6+nd9IQEtKpb5w2kNA7/q+QPXYuEBSEWvAOlRowH/DXL6Gr0VAzLQWvhxbSECoW7lA8r6/QM0QUcA5sEXAaiWBJzmwRUDmo7ZAh6HuQGolAUEa8f5AdtIBQb35DUHDOg5BAB/+QMkn8EAzsgBBDB0DQYeh7kBqJQFBh6HuQOajtkCz+/xA1OfhQIAmtUBLotZAmgfpQGzFpkDymJdAh6HuQOajtkA5sEVA2XSOpux/Q0BdVdM8H7LzP/pRL0BWSYG/uV62vzmwRUDZdI6mObBFwOajtsA8S0zAcAihwHQk38CI/MvAL2eswKABbMDkgOHAw4XwwDmwRcDmo7bAh6HuwGolAcHNXfzAZNAPwTC/E8G/rgvBFiUSwTp/AsE3vw3BMRQVwYeh7sBqJQHBh6HuwOajtsD3F/zALgAIwQYuz8AGXMbALgsIwRvo/MBmZcPATi7NwIeh7sDmo7bAeeQdPw==",
        "encoding": "base64",
        "path": [
         "z",
         0,
         "buffer"
        ]
       }
      ],
      "model_module": "ipyvolume",
      "model_module_version": "~0.4.2",
      "model_name": "MeshModel",
      "state": {
       "_dom_classes": [],
       "color": [
        {
         "buffer": {},
         "dtype": "float32",
         "shape": [
          94,
          3
         ]
        }
       ],
       "layout": "IPY_MODEL_78effc6e7eda4d61b75804fbf9cc38f7",
       "lines": [
        {
         "buffer": {},
         "dtype": "uint32",
         "shape": [
          234,
          2
         ]
        }
       ],
       "side": "both",
       "texture": null,
       "triangles": null,
       "u": null,
       "v": null,
       "x": [
        {
         "buffer": {},
         "dtype": "float32",
         "shape": [
          94
         ]
        }
       ],
       "y": [
        {
         "buffer": {},
         "dtype": "float32",
         "shape": [
          94
         ]
        }
       ],
       "z": [
        {
         "buffer": {},
         "dtype": "float32",
         "shape": [
          94
         ]
        }
       ]
      }
     },
     "1b7a88f1bb39491c83c89396a103cbfd": {
      "buffers": [
       {
        "data": "wLSIPhO2nzsVqag+WFiQPs+itz0PKNM+wLSIPhO2nzsVqag+WFiQPs+itz0PKNM+tTeAPr1vjD5weQg/FlFjPoOmrT4Deww/kh+BPv8gij6QFQg/w0gvPgOy5z7L1g4/SiYXPu8AAz/Dmg4/4nQyPs/c4z51yw4/oUhnPkZfqT7FHAw/NrAVPhvyAz/0iw4/DJT0Pb1zHD+5+gk/gSIWPgFNLD+hSQI/tcL0PcOCGz+6Swo/Ab6jPp9aRT+EgtI+kBPmPhpTUD90t6s+Ab6jPp9aRT+EgtI+NpMPPrx1Kj/0bwM/kBPmPhpTUD90t6s+QdRVP8zSYj8RONI9gEV+P+j5Zz/1YxM+QdRVP8zSYj8RONI9gEV+P+j5Zz/1YxM+WFiQPs+itz0PKNM+wLSIPhO2nzsVqag+xQOCPl/Phz73rAc/rp0YPqEPAj/wpw4/qg80PsPw4T5yxA4/s0BrPoAMpT5jsws/y/L1PWqgGT8/4wo/zqncPhb4Tj9NZbE+GMyXPqn1Qj/CM9k+Q3EHPv+uJz+BCAU/QdRVP8zSYj8RONI9gEV+P+j5Zz/1YxM+WFiQPs+itz0PKNM+wLSIPhO2nzsVqag+tr+DPnkjgz7VzAY/04cePoaT/D6azg4/RaFVPv1JvD4cfA0/idEDPiMyED9YHQ0/VWnTPhiUTT/267Y+dO2TPhwmQj+nWts+wCT1PVxVHj8JTgk/QdRVP8zSYj8RONI9gEV+P+j5Zz/1YxM+WFiQPs+itz0PKNM+wLSIPhO2nzsVqag+mExlPlWEqz40TQw/XoUkPjID9T6g4A4/K9r8PXDpFD9bJQw/zqncPhb4Tj9NZbE+4dSnPo4jRj8eM9A+TmAqPvDbMD+DNf4+QdRVP8zSYj8RONI9gEV+P+j5Zz/1YxM+WFiQPs+itz0PKNM+wLSIPhO2nzsVqag+nfJ4PhWNlT4v3Ak/gsgSPnTUBT9ZaQ4/OSksPoyD6z523g4/eV1fPpvisT5Kzww/FJb4PWMmIT9iLwg/paTvPs+kUT8R46U+eCqwPvuvRz+Gdcs+saMhPjkLLz9+bgA/QdRVP8zSYj8RONI9gEV+P+j5Zz/1YxM+WFiQPs+itz0PKNM+wLSIPhO2nzsVqag+Brx8PnEEkT5uMwk/gsgSPnTUBT9ZaQ4/rrctPiyb6T4O2w4/n1ZhPu/Frz5Vpgw/B+31PfFFHz858gg/UtfqPir9UD/60ag+HvmrPqfqRj9e2c0+ZJYdPskhLj9rEQE/QdRVP8zSYj8RONI9gEV+P+j5Zz/1YxM+WFiQPs+itz0PKNM+wLSIPhO2nzsVqag+mph+Ppm7jj6p2Ag/tDsUPkfjBD+Bew4/w0gvPgOy5z7L1g4/FlFjPoOmrT4Deww/gbP0PaZkHT8vpgk/UtfqPir9UD/60ag+4dSnPo4jRj8eM9A+ZsAZPrA3LT/RrwE/QdRVP8zSYj8RONI9gEV+P+j5Zz/1YxM+v+9PPiNqwj4Hzg0/",
        "encoding": "base64",
        "path": [
         "color",
         0,
         "buffer"
        ]
       },
       {
        "data": "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",
        "encoding": "base64",
        "path": [
         "lines",
         0,
         "buffer"
        ]
       },
       {
        "data": "xT5qwe32TMHFPmrB7fZMwWMACMFyP9vASVcJweLEYsA2LNK/udZqwGc64MDbvcK/wE+4P0XhVkC//qo/KbjXQCLZBUEUedRAgDlMQBYdB0Ht9kxBxT5qQe32TEHFPmpB7fZMwcU+asH9BQzBxajlvzMAd8DVDenAnAGGPyVSA0GPacpAhrUzQO32TEHFPmpB7fZMwcU+asEVTw/BdfoRwP3EwcAeBru9jTb9QFhNyEB3Es4/7fZMQcU+akHt9kzBxT5qwR1x3sBPAy7ADMAKPzUGA0E7R9hAvGN8QO32TEHFPmpB7fZMwcU+asFQ1QDB49CqvwNgTcAzSNLAbtcBQGdGCkGVluBAlwxwQO32TEHFPmpB7fZMwcU+asENCgXBaFevvwxiVcCX4dfAlCDcP5E4CUEUL9xAc3tjQO32TEHFPmpB7fZMwcU+asFe9QbBz9O4v7a4XMBcMtnAVlPFP6X/B0GRPNlAlCpdQO32TEHFPmpBMOu1wA==",
        "encoding": "base64",
        "path": [
         "x",
         0,
         "buffer"
        ]
       },
       {
        "data": "aiUBQYeh7kDmo7ZAh6HuQD90/EBIywxB6nsBQSz8EkHczwxBsSrjQLuv20At4wdBW+UHQfr3EUGoIgtBWRELQR+V+0A5WMlAhVvWQJ7y+0CHoe5AaiUBQYeh7kDmo7ZAObBFQNl0DiYZxXNArxqIQChGrT9uibg/9iOAQCw5U0ARtpE9aD6XPjmwRUDZdA4mObBFwOajtsDFEjHAfG5UwABbosDdI2fA57RCwAaau8A6lLzAObBFwOajtsCHoe7AaiUBwbN918CT/vrA4gfzwKBG88DAQgfBowIMwYeh7sBqJQHBh6HuwOajtsAyjuXA3ujxwASgusA2WbLAlp/6wLuC9sDXRbHAt+S5wIeh7sDmo7bAObBFwDl88KfH5kHAT5gvwLEi2D7WgJ4+icYtwKg5Q8A5p/c+7IEHPzmwRcA5fPCnObBFQOajtkB/zlNAtkBzQN2Hz0A4RsVAK0B2QJibWEB7QchAvnbRQDmwRUDmo7ZA0SvtwA==",
        "encoding": "base64",
        "path": [
         "y",
         0,
         "buffer"
        ]
       },
       {
        "data": "aiWBJzmwRUDmo7ZAObBFwIiuVcAeaZ6+nd9IQEtKpb5w2kNA7/q+QPXYuEBSEWvAOlRowH/DXL6Gr0VAzLQWvhxbSECoW7lA8r6/QM0QUcA5sEXAaiWBJzmwRUDmo7ZAh6HuQGolAUEa8f5AdtIBQb35DUHDOg5BAB/+QMkn8EAzsgBBDB0DQYeh7kBqJQFBh6HuQOajtkCz+/xA1OfhQIAmtUBLotZAmgfpQGzFpkDymJdAh6HuQOajtkA5sEVA2XSOpux/Q0BdVdM8H7LzP/pRL0BWSYG/uV62vzmwRUDZdI6mObBFwOajtsA8S0zAcAihwHQk38CI/MvAL2eswKABbMDkgOHAw4XwwDmwRcDmo7bAh6HuwGolAcHNXfzAZNAPwTC/E8G/rgvBFiUSwTp/AsE3vw3BMRQVwYeh7sBqJQHBh6HuwOajtsD3F/zALgAIwQYuz8AGXMbALgsIwRvo/MBmZcPATi7NwIeh7sDmo7bAeeQdPw==",
        "encoding": "base64",
        "path": [
         "z",
         0,
         "buffer"
        ]
       }
      ],
      "model_module": "ipyvolume",
      "model_module_version": "~0.4.2",
      "model_name": "MeshModel",
      "state": {
       "_dom_classes": [],
       "color": [
        {
         "buffer": {},
         "dtype": "float32",
         "shape": [
          94,
          3
         ]
        }
       ],
       "layout": "IPY_MODEL_1e37dd66ede1420bb848c475f29bd939",
       "lines": [
        {
         "buffer": {},
         "dtype": "uint32",
         "shape": [
          234,
          2
         ]
        }
       ],
       "side": "both",
       "texture": null,
       "triangles": null,
       "u": null,
       "v": null,
       "x": [
        {
         "buffer": {},
         "dtype": "float32",
         "shape": [
          94
         ]
        }
       ],
       "y": [
        {
         "buffer": {},
         "dtype": "float32",
         "shape": [
          94
         ]
        }
       ],
       "z": [
        {
         "buffer": {},
         "dtype": "float32",
         "shape": [
          94
         ]
        }
       ]
      }
     },
     "1e37dd66ede1420bb848c475f29bd939": {
      "model_module": "@jupyter-widgets/base",
      "model_module_version": "1.0.0",
      "model_name": "LayoutModel",
      "state": {}
     },
     "464c4da6d56d45ff920548c6f7464104": {
      "model_module": "@jupyter-widgets/base",
      "model_module_version": "1.0.0",
      "model_name": "LayoutModel",
      "state": {}
     },
     "5f30ec5c421840559f968636eff989e6": {
      "buffers": [
       {
        "data": "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",
        "encoding": "base64",
        "path": [
         "lines",
         0,
         "buffer"
        ]
       },
       {
        "data": "xT5qwe32TMHFPmrB7fZMwWMACMFyP9vASVcJweLEYsA2LNK/udZqwGc64MDbvcK/wE+4P0XhVkC//qo/KbjXQCLZBUEUedRAgDlMQBYdB0Ht9kxBxT5qQe32TEHFPmpB7fZMwcU+asH9BQzBxajlvzMAd8DVDenAnAGGPyVSA0GPacpAhrUzQO32TEHFPmpB7fZMwcU+asEVTw/BdfoRwP3EwcAeBru9jTb9QFhNyEB3Es4/7fZMQcU+akHt9kzBxT5qwR1x3sBPAy7ADMAKPzUGA0E7R9hAvGN8QO32TEHFPmpB7fZMwcU+asFQ1QDB49CqvwNgTcAzSNLAbtcBQGdGCkGVluBAlwxwQO32TEHFPmpB7fZMwcU+asENCgXBaFevvwxiVcCX4dfAlCDcP5E4CUEUL9xAc3tjQO32TEHFPmpB7fZMwcU+asFe9QbBz9O4v7a4XMBcMtnAVlPFP6X/B0GRPNlAlCpdQO32TEHFPmpBMOu1wA==",
        "encoding": "base64",
        "path": [
         "x",
         0,
         "buffer"
        ]
       },
       {
        "data": "aiUBQYeh7kDmo7ZAh6HuQD90/EBIywxB6nsBQSz8EkHczwxBsSrjQLuv20At4wdBW+UHQfr3EUGoIgtBWRELQR+V+0A5WMlAhVvWQJ7y+0CHoe5AaiUBQYeh7kDmo7ZAObBFQNl0DiYZxXNArxqIQChGrT9uibg/9iOAQCw5U0ARtpE9aD6XPjmwRUDZdA4mObBFwOajtsDFEjHAfG5UwABbosDdI2fA57RCwAaau8A6lLzAObBFwOajtsCHoe7AaiUBwbN918CT/vrA4gfzwKBG88DAQgfBowIMwYeh7sBqJQHBh6HuwOajtsAyjuXA3ujxwASgusA2WbLAlp/6wLuC9sDXRbHAt+S5wIeh7sDmo7bAObBFwDl88KfH5kHAT5gvwLEi2D7WgJ4+icYtwKg5Q8A5p/c+7IEHPzmwRcA5fPCnObBFQOajtkB/zlNAtkBzQN2Hz0A4RsVAK0B2QJibWEB7QchAvnbRQDmwRUDmo7ZA0SvtwA==",
        "encoding": "base64",
        "path": [
         "y",
         0,
         "buffer"
        ]
       },
       {
        "data": "aiWBJzmwRUDmo7ZAObBFwIiuVcAeaZ6+nd9IQEtKpb5w2kNA7/q+QPXYuEBSEWvAOlRowH/DXL6Gr0VAzLQWvhxbSECoW7lA8r6/QM0QUcA5sEXAaiWBJzmwRUDmo7ZAh6HuQGolAUEa8f5AdtIBQb35DUHDOg5BAB/+QMkn8EAzsgBBDB0DQYeh7kBqJQFBh6HuQOajtkCz+/xA1OfhQIAmtUBLotZAmgfpQGzFpkDymJdAh6HuQOajtkA5sEVA2XSOpux/Q0BdVdM8H7LzP/pRL0BWSYG/uV62vzmwRUDZdI6mObBFwOajtsA8S0zAcAihwHQk38CI/MvAL2eswKABbMDkgOHAw4XwwDmwRcDmo7bAh6HuwGolAcHNXfzAZNAPwTC/E8G/rgvBFiUSwTp/AsE3vw3BMRQVwYeh7sBqJQHBh6HuwOajtsD3F/zALgAIwQYuz8AGXMbALgsIwRvo/MBmZcPATi7NwIeh7sDmo7bAeeQdPw==",
        "encoding": "base64",
        "path": [
         "z",
         0,
         "buffer"
        ]
       }
      ],
      "model_module": "ipyvolume",
      "model_module_version": "~0.4.2",
      "model_name": "MeshModel",
      "state": {
       "_dom_classes": [],
       "color": "#2b5d0a",
       "layout": "IPY_MODEL_464c4da6d56d45ff920548c6f7464104",
       "lines": [
        {
         "buffer": {},
         "dtype": "uint32",
         "shape": [
          234,
          2
         ]
        }
       ],
       "side": "both",
       "texture": null,
       "triangles": null,
       "u": null,
       "v": null,
       "x": [
        {
         "buffer": {},
         "dtype": "float32",
         "shape": [
          94
         ]
        }
       ],
       "y": [
        {
         "buffer": {},
         "dtype": "float32",
         "shape": [
          94
         ]
        }
       ],
       "z": [
        {
         "buffer": {},
         "dtype": "float32",
         "shape": [
          94
         ]
        }
       ]
      }
     },
     "6e675aa2464d4919b9340b5406488f95": {
      "model_module": "@jupyter-widgets/base",
      "model_module_version": "1.0.0",
      "model_name": "LayoutModel",
      "state": {}
     },
     "78effc6e7eda4d61b75804fbf9cc38f7": {
      "model_module": "@jupyter-widgets/base",
      "model_module_version": "1.0.0",
      "model_name": "LayoutModel",
      "state": {}
     },
     "da1d4fb59f8d4de2a42d963f423e7fc1": {
      "model_module": "@jupyter-widgets/base",
      "model_module_version": "1.0.0",
      "model_name": "LayoutModel",
      "state": {}
     },
     "de364e1f1e0a4743a2dbfa61fb9bfa21": {
      "model_module": "@jupyter-widgets/controls",
      "model_module_version": "1.1.0",
      "model_name": "VBoxModel",
      "state": {
       "children": [
        "IPY_MODEL_f2a9364572c6461fa426f4e8f86fb96a"
       ],
       "layout": "IPY_MODEL_da1d4fb59f8d4de2a42d963f423e7fc1"
      }
     },
     "f2a9364572c6461fa426f4e8f86fb96a": {
      "model_module": "ipyvolume",
      "model_module_version": "~0.4.2",
      "model_name": "FigureModel",
      "state": {
       "anglex": -0.610415105537893,
       "angley": -0.024790914862543877,
       "anglez": -2.4736817312131487,
       "data_max": 0,
       "data_min": 0,
       "height": 500,
       "layout": "IPY_MODEL_6e675aa2464d4919b9340b5406488f95",
       "matrix_projection": [
        3.017766952966369,
        0,
        0,
        0,
        0,
        2.414213562373095,
        0,
        0,
        0,
        0,
        -1.000002000002,
        -1,
        0,
        0,
        -0.02000002000002,
        0
       ],
       "matrix_world": [
        -0.024368435485795228,
        0.019223271011195597,
        -0.0007696170307771761,
        0,
        -0.01610293975082206,
        -0.01970065561915351,
        0.01779119462897894,
        0,
        0.010527192889148083,
        0.014363047259371584,
        0.02543281718703274,
        0,
        3.2092092800181166e-10,
        -1.4881692991048175e-10,
        -1.7617446005990176,
        1.0000000000000002
       ],
       "meshes": [
        "IPY_MODEL_5f30ec5c421840559f968636eff989e6",
        "IPY_MODEL_1b7a88f1bb39491c83c89396a103cbfd",
        "IPY_MODEL_16366d638fbd4786a3d059399b5d077b"
       ],
       "scatters": [],
       "style": {
        "axes": {
         "color": "white",
         "label": {
          "color": "white"
         },
         "ticklabel": {
          "color": "white"
         },
         "visible": false
        },
        "background-color": "black",
        "box": {
         "visible": false
        }
       },
       "tf": null,
       "volume_data": null,
       "width": 400,
       "xlim": [
        -16.10435746630556,
        16.104357487740177
       ],
       "ylim": [
        -16.10435746630556,
        16.104357487740177
       ],
       "zlim": [
        -16.10435746630556,
        16.104357487740177
       ]
      }
     }
    },
    "version_major": 2,
    "version_minor": 0
   }
  }
 },
 "nbformat": 4,
 "nbformat_minor": 1
}
